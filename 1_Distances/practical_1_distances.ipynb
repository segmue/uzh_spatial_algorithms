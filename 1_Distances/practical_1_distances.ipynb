{
 "cells": [
  {
   "cell_type": "markdown",
   "metadata": {},
   "source": [
    "# GEO877: Spatial Algorithms\n",
    "\n",
    "## Practical 1: Points and Spatial Distance Measures\n",
    "v1, class embedded, sample data, and dataset will load if in same folder as this file\n",
    "\n",
    "### Problem\n",
    "A dataset containing 10,000 records with Cartesian (x, y) and WGS84 coordinates (longitude, latitude) and a 'region' classifier is provided.\n",
    "\n",
    "For all points and for points in each region, calculate the mean and standard deviation of the differences between Cartesian and a spherical distance measures for all pairs of points. Also calculate the maximum absolute error in distance and maximum relative error.\n",
    "\n",
    "A sample Points class is provided (embedded below) to help get you started...\n",
    "\n",
    "\n",
    "### Distance functions\n",
    "\n",
    "#### Euclidean\n",
    "\n",
    "$$d_{Euclidean}(a, b) = \\sqrt{(a_{x} - b_{x})^{2} + (a_{y} - b_{y})^{2} }$$ \n",
    "\n",
    "#### Spherical\n",
    "\n",
    "..."
   ]
  },
  {
   "cell_type": "markdown",
   "metadata": {},
   "source": [
    "### Pseudocode/Flow diagram\n",
    "..."
   ]
  },
  {
   "cell_type": "markdown",
   "metadata": {},
   "source": [
    "### Classes and methods"
   ]
  },
  {
   "cell_type": "code",
   "execution_count": 1,
   "metadata": {},
   "outputs": [],
   "source": [
    "# class and methods for a geometric point\n",
    "# =======================================\n",
    "from numpy import sqrt\n",
    "\n",
    "class Point():\n",
    "    # initialise\n",
    "    def __init__(self, x=None, y=None):\n",
    "        self.x = x\n",
    "        self.y = y\n",
    "    \n",
    "    # representation\n",
    "    def __repr__(self):\n",
    "        return f'Point(x={self.x}, y={self.y})'\n",
    "        \n",
    "    # calculate Euclidean distance between two points\n",
    "    def distEuclidean(self, other):\n",
    "        return sqrt((self.x-other.x)**2 + (self.y-other.y)**2)\n",
    "    \n",
    "    # calculate Manhattan distance between two points\n",
    "    def distManhattan(self, other):\n",
    "        return abs(self.x-other.x) + abs(self.y-other.y)\n",
    "    # Test for equality between Points\n",
    "    def __eq__(self, other): \n",
    "        if not isinstance(other, Point):\n",
    "            # don't attempt to compare against unrelated types\n",
    "            return NotImplemented\n",
    "\n",
    "        return self.x == other.x and self.y == other.y\n",
    "    # We need this method so that the class will behave sensibly in sets and dictionaries\n",
    "    def __hash__(self):\n",
    "        return hash((self.x, self.y))\n"
   ]
  },
  {
   "cell_type": "markdown",
   "metadata": {},
   "source": [
    "### Data"
   ]
  },
  {
   "cell_type": "code",
   "execution_count": 2,
   "metadata": {},
   "outputs": [
    {
     "name": "stdout",
     "output_type": "stream",
     "text": [
      "<class 'pandas.core.frame.DataFrame'>\n",
      "RangeIndex: 10000 entries, 0 to 9999\n",
      "Data columns (total 8 columns):\n",
      " #   Column     Non-Null Count  Dtype  \n",
      "---  ------     --------------  -----  \n",
      " 0   photo_id   10000 non-null  int64  \n",
      " 1   longitude  10000 non-null  float64\n",
      " 2   latitude   10000 non-null  float64\n",
      " 3   X          10000 non-null  float64\n",
      " 4   Y          10000 non-null  float64\n",
      " 5   adm1_code  10000 non-null  object \n",
      " 6   name       10000 non-null  object \n",
      " 7   region     10000 non-null  object \n",
      "dtypes: float64(4), int64(1), object(3)\n",
      "memory usage: 625.1+ KB\n",
      "None\n"
     ]
    },
    {
     "data": {
      "text/html": [
       "<div>\n",
       "<style scoped>\n",
       "    .dataframe tbody tr th:only-of-type {\n",
       "        vertical-align: middle;\n",
       "    }\n",
       "\n",
       "    .dataframe tbody tr th {\n",
       "        vertical-align: top;\n",
       "    }\n",
       "\n",
       "    .dataframe thead th {\n",
       "        text-align: right;\n",
       "    }\n",
       "</style>\n",
       "<table border=\"1\" class=\"dataframe\">\n",
       "  <thead>\n",
       "    <tr style=\"text-align: right;\">\n",
       "      <th></th>\n",
       "      <th>photo_id</th>\n",
       "      <th>longitude</th>\n",
       "      <th>latitude</th>\n",
       "      <th>X</th>\n",
       "      <th>Y</th>\n",
       "      <th>adm1_code</th>\n",
       "      <th>name</th>\n",
       "      <th>region</th>\n",
       "    </tr>\n",
       "  </thead>\n",
       "  <tbody>\n",
       "    <tr>\n",
       "      <th>0</th>\n",
       "      <td>1559</td>\n",
       "      <td>-2.982906</td>\n",
       "      <td>56.456295</td>\n",
       "      <td>339520.5448</td>\n",
       "      <td>729782.1624</td>\n",
       "      <td>GBR-2020</td>\n",
       "      <td>Dundee</td>\n",
       "      <td>Eastern</td>\n",
       "    </tr>\n",
       "    <tr>\n",
       "      <th>1</th>\n",
       "      <td>2534</td>\n",
       "      <td>-4.287759</td>\n",
       "      <td>55.867930</td>\n",
       "      <td>256939.5208</td>\n",
       "      <td>666228.5591</td>\n",
       "      <td>GBR-2004</td>\n",
       "      <td>Glasgow</td>\n",
       "      <td>South Western</td>\n",
       "    </tr>\n",
       "    <tr>\n",
       "      <th>2</th>\n",
       "      <td>5426</td>\n",
       "      <td>-0.384564</td>\n",
       "      <td>51.828854</td>\n",
       "      <td>511419.5498</td>\n",
       "      <td>215704.3552</td>\n",
       "      <td>GBR-2752</td>\n",
       "      <td>Luton</td>\n",
       "      <td>East</td>\n",
       "    </tr>\n",
       "  </tbody>\n",
       "</table>\n",
       "</div>"
      ],
      "text/plain": [
       "   photo_id  longitude   latitude            X            Y adm1_code  \\\n",
       "0      1559  -2.982906  56.456295  339520.5448  729782.1624  GBR-2020   \n",
       "1      2534  -4.287759  55.867930  256939.5208  666228.5591  GBR-2004   \n",
       "2      5426  -0.384564  51.828854  511419.5498  215704.3552  GBR-2752   \n",
       "\n",
       "      name         region  \n",
       "0   Dundee        Eastern  \n",
       "1  Glasgow  South Western  \n",
       "2    Luton           East  "
      ]
     },
     "execution_count": 2,
     "metadata": {},
     "output_type": "execute_result"
    }
   ],
   "source": [
    "import pandas as pd\n",
    "\n",
    "# sample data for testing\n",
    "# -----------------------\n",
    "# 2 cities with x, y, lat and lng\n",
    "bern = (600500, 206750, 47.01180, 7.44521)\n",
    "zurich = (682000, 252750, 47.42045, 8.52532)\n",
    "\n",
    "# Flickr set of 10K records\n",
    "# -------------------------\n",
    "data_folder = \"../../raw_data/\"   # specify folder where dataset is, if different to this file - here a relative path\n",
    "data_file = \"flickr_10000_uk_adm.csv\"\n",
    "input_string = data_folder + data_file\n",
    "df = pd.read_csv(input_string, sep = \",\")\n",
    "\n",
    "print(df.info()) # Show the data types of the entries in the frame\n",
    "df[:3] #Output the first three rows of the frame"
   ]
  },
  {
   "cell_type": "markdown",
   "metadata": {},
   "source": [
    "### Solution"
   ]
  },
  {
   "cell_type": "code",
   "execution_count": null,
   "metadata": {},
   "outputs": [],
   "source": [
    "# ... goes here\n"
   ]
  }
 ],
 "metadata": {
  "kernelspec": {
   "display_name": "Python 3 (ipykernel)",
   "language": "python",
   "name": "python3"
  },
  "language_info": {
   "codemirror_mode": {
    "name": "ipython",
    "version": 3
   },
   "file_extension": ".py",
   "mimetype": "text/x-python",
   "name": "python",
   "nbconvert_exporter": "python",
   "pygments_lexer": "ipython3",
   "version": "3.9.13"
  }
 },
 "nbformat": 4,
 "nbformat_minor": 4
}

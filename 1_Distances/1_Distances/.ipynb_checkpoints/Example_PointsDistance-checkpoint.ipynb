{
 "cells": [
  {
   "cell_type": "markdown",
   "metadata": {},
   "source": [
    "# GEO877: Spatial Algorithms\n",
    "\n",
    "## Example 1: Points and Spatial Distance Measures\n",
    "\n",
    "Using a simple Point class that assumes Cartesian coordinates to calculate Euclidean and Manhattan spatial distance between two points\n",
    "\n",
    "Notes: For demo purposes, including different approaches to printing outputs - f-string (Python 3.6+) versus traditional (Python 3 to 3.5). Adding print(\"ready\") for code blocks that do not have a line output. Using `numpy` from the start because we will need it instead of `math` later on...\n",
    "\n",
    "### Distance equations\n",
    "\n",
    "Measuring the distance between two points $a$ and $b$ showing general form (1 to $n$ dimensions) and specific for 2-dimensions, $_{x}$ and $_{y}$.\n",
    "\n",
    "#### Euclidean\n",
    "\n",
    "Shortest path as a diagonal straight line betweeen points.\n",
    "\n",
    "$$d_{Euclidean}(a, b) = \\sqrt{ \\sum \\limits _{i=1} ^{n}(a_{i} - b_{i})^{2}}$$ \n",
    "\n",
    "$$d_{Euclidean}(a, b) = \\sqrt{(a_{x} - b_{x})^{2} + (a_{y} - b_{y})^{2} }$$ \n",
    "\n",
    "\n",
    "#### Manhattan\n",
    "\n",
    "Shortest path traversing a grid.\n",
    "\n",
    "$$d_{Manhattan}(a, b)  = \\sum \\limits _{i=1} ^{n}|a_{i} - b_{i}|$$ \n",
    "\n",
    "$$d_{Manhattan}(a, b)= |a_{x} - b_{x}| + |a_{y} - b_{y}| $$"
   ]
  },
  {
   "cell_type": "markdown",
   "metadata": {},
   "source": [
    "## Set-up"
   ]
  },
  {
   "cell_type": "code",
   "execution_count": 1,
   "metadata": {},
   "outputs": [
    {
     "name": "stdout",
     "output_type": "stream",
     "text": [
      "ready\n"
     ]
    }
   ],
   "source": [
    "# class and methods for a geometric point\n",
    "# =======================================\n",
    "from numpy import sqrt\n",
    "\n",
    "class Point():\n",
    "    # initialise\n",
    "    def __init__(self, x=None, y=None):\n",
    "        self.x = x\n",
    "        self.y = y\n",
    "    \n",
    "    # representation\n",
    "    def __repr__(self):\n",
    "        return f'Point(x={self.x}, y={self.y})'\n",
    "    \n",
    "    # test for equality between two points\n",
    "    def isEqual(self, other):\n",
    "        return self.x == other.x and self.y == other.y\n",
    "    \n",
    "    # calculate Euclidean distance between two points\n",
    "    def distEuclidean(self, other):\n",
    "        return sqrt((self.x-other.x)**2 + (self.y-other.y)**2)\n",
    "    \n",
    "    # calculate Manhattan distance between two points\n",
    "    def distManhattan(self, other):\n",
    "        return abs(self.x-other.x) + abs(self.y-other.y)\n",
    "\n",
    "    \n",
    "# data\n",
    "# ====\n",
    "# Sample: 2 cities with x, y coordinates\n",
    "Bern = (600500, 206750)\n",
    "Zurich = (682000, 252750)\n",
    "\n",
    "print(\"ready\")"
   ]
  },
  {
   "cell_type": "markdown",
   "metadata": {},
   "source": [
    "## Main program"
   ]
  },
  {
   "cell_type": "code",
   "execution_count": 4,
   "metadata": {},
   "outputs": [
    {
     "name": "stdout",
     "output_type": "stream",
     "text": [
      "Point(x=600500, y=206750)\n",
      "600500 206750\n",
      "\n",
      "Evaluating points Point(x=600500, y=206750) and Point(x=682000, y=252750):\n",
      "  - Euclidean distance is: 93585.5223846 metres\n",
      "  - Manhattan distance is: 127500 metres\n",
      "\n",
      "Evaluating points Point(x=682000, y=252750) and Point(x=682000, y=252750):\n",
      "  - Points are identical, distance is 0 metres\n"
     ]
    }
   ],
   "source": [
    "# function to evaluate two points\n",
    "# ===============================\n",
    "# test if they are identical. If not, calculate Euclidean and Manhattan distance\n",
    "def comparePoints(a, b):    \n",
    "    print(f\"\\nEvaluating points {a} and {b}:\")\n",
    "    if (a.isEqual(b) == True):\n",
    "        print(\"  - Points are identical, distance is 0 metres\")\n",
    "    else:\n",
    "        print(\"  - Euclidean distance is: \" + str(a.distEuclidean(b)) + \" metres\")\n",
    "        print(\"  - Manhattan distance is: \" + str(a.distManhattan(b)) + \" metres\")\n",
    "\n",
    "        \n",
    "# initialise points using the Point class\n",
    "# ---------------------------------------\n",
    "p = Point(Bern[0], Bern[1])\n",
    "q = Point(Zurich[0], Zurich[1])\n",
    "r = Point(Zurich[0], Zurich[1])\n",
    "\n",
    "\n",
    "# print object (just demo'ing different ways using class)\n",
    "# ------------\n",
    "print(p)\n",
    "print(p.x, p.y)\n",
    "\n",
    "\n",
    "# test for equality and calculate/print distance measures\n",
    "# -------------------------------------------------------\n",
    "comparePoints(p, q)\n",
    "comparePoints(q, r)"
   ]
  },
  {
   "cell_type": "markdown",
   "metadata": {},
   "source": [
    "## Discussion\n",
    "- Should `comparePoints()` be a class method?\n",
    "- When is evaluating equality between two points beneficial (or not)?"
   ]
  },
  {
   "cell_type": "code",
   "execution_count": null,
   "metadata": {},
   "outputs": [],
   "source": []
  }
 ],
 "metadata": {
  "kernelspec": {
   "display_name": "Python 3 (ipykernel)",
   "language": "python",
   "name": "python3"
  },
  "language_info": {
   "codemirror_mode": {
    "name": "ipython",
    "version": 3
   },
   "file_extension": ".py",
   "mimetype": "text/x-python",
   "name": "python",
   "nbconvert_exporter": "python",
   "pygments_lexer": "ipython3",
   "version": "3.9.7"
  }
 },
 "nbformat": 4,
 "nbformat_minor": 4
}

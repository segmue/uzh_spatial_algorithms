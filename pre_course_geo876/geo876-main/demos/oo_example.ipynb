{
 "cells": [
  {
   "cell_type": "markdown",
   "id": "aa6d5481",
   "metadata": {},
   "source": [
    "This example illustrates some key ideas about object oriented programming with Python. The class definition has a constructor, which instantiates (creates) an object with initial properties. These are referenced using the keyword \t`self`.\n",
    "\n",
    "The `addYear` and `passedCourses` methods change properties. Note they are passed `self` so that they can use the instance variables (states or properties).\n",
    "\n",
    "The `transcript` method simply reports on the current properties without changing them.\n",
    "\n",
    "Note the **order** matters - we must define the class and its methods before using it..."
   ]
  },
  {
   "cell_type": "code",
   "execution_count": 3,
   "id": "4afc51c4",
   "metadata": {},
   "outputs": [
    {
     "name": "stdout",
     "output_type": "stream",
     "text": [
      "\n",
      "Name: Ross Purves\n",
      "Year: 0\n",
      "\n",
      "Name: Ross Purves\n",
      "Year: 1\n",
      "\n",
      "Name: Ross Purves\n",
      "Year: 1\n",
      "Course: Geo876 4.0\n",
      "\n",
      "Name: Ross Purves\n",
      "Year: 1\n",
      "Course: Geo876 4.0\n",
      "\n",
      "Name: Ross Purves\n",
      "Year: 1\n",
      "Course: Geo876 4.0\n",
      "Course: Geo888 5.0\n",
      "\n",
      "Name: No Name\n",
      "Year: 0\n",
      "Course: Geo372 4.25\n"
     ]
    }
   ],
   "source": [
    "class Student:\n",
    "    # This is the constructor\n",
    "    # In this method we define the initial state (properties) of an instance of the class\n",
    "    def __init__(self, name):\n",
    "        self.year = 0\n",
    "        self.portfolio = {}\n",
    "        self.name = name\n",
    "        \n",
    "    # All the following are methods (behaviours) of this class\n",
    "    # Typically, they change the state of the class (the first two) or perform some action (the third)\n",
    "    # All methods are passed self, which means they have access to the state (properties) of a specific instance\n",
    "    def addYear(self):\n",
    "        self.year = self.year + 1\n",
    "    def passedCourses(self, course, grade):\n",
    "        if grade < 4.0:\n",
    "            return\n",
    "        if course in self.portfolio:\n",
    "            oldGrade = self.portfolio[course]\n",
    "            if grade > oldGrade:\n",
    "                self.portfolio[course] = grade\n",
    "        else:\n",
    "            self.portfolio[course] = grade\n",
    "    def transcript(self):\n",
    "        print()\n",
    "        print(f'Name: {self.name}')\n",
    "        print(f'Year: {self.year}')\n",
    "        for key in self.portfolio.keys():\n",
    "            print(f'Course: {key} {self.portfolio[key]}')\n",
    "        \n",
    "# Now test the class, calling its methods and modifying its state\n",
    "s1 = Student(\"Ross Purves\") # Here we create an instance (s1) of the class Student\n",
    "s1.transcript() # And here we use one of its methods - in this case just printing information to the screen\n",
    "\n",
    "s1.addYear()\n",
    "s1.transcript()\n",
    "            \n",
    "s1.passedCourses(\"Geo876\", 4.0)        \n",
    "s1.transcript()            \n",
    "\n",
    "s1.passedCourses(\"Geo888\", 3.0)        \n",
    "s1.transcript()            \n",
    "\n",
    "s1.passedCourses(\"Geo888\", 5.0)        \n",
    "s1.transcript()\n",
    "\n",
    "s2 = Student(\"No Name\")\n",
    "s2.passedCourses(\"Geo372\", 4.25)\n",
    "s2.transcript()"
   ]
  },
  {
   "cell_type": "code",
   "execution_count": null,
   "id": "6c1364b0",
   "metadata": {},
   "outputs": [],
   "source": []
  },
  {
   "cell_type": "code",
   "execution_count": null,
   "id": "bb45fa1a",
   "metadata": {},
   "outputs": [],
   "source": []
  }
 ],
 "metadata": {
  "kernelspec": {
   "display_name": "Python 3 (ipykernel)",
   "language": "python",
   "name": "python3"
  },
  "language_info": {
   "codemirror_mode": {
    "name": "ipython",
    "version": 3
   },
   "file_extension": ".py",
   "mimetype": "text/x-python",
   "name": "python",
   "nbconvert_exporter": "python",
   "pygments_lexer": "ipython3",
   "version": "3.9.7"
  }
 },
 "nbformat": 4,
 "nbformat_minor": 5
}

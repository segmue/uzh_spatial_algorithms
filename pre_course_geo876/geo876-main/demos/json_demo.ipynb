{
 "cells": [
  {
   "cell_type": "markdown",
   "id": "ce487f4e",
   "metadata": {},
   "source": [
    "This demo shows how we can load a json file and parse it. JSON is a text-based structured file format. It is very verbose, but also very well structured, and easy to parse. It uses a dictionary type structure, which can be nested at many levels. Here I show you how to read raw data downloaded from Stadt Zurich which describe the neighbourhoods of the city <https://data.stadt-zuerich.ch/dataset/geo_quartiere__basierend_auf_vermessungsbezirken_>."
   ]
  },
  {
   "cell_type": "code",
   "execution_count": null,
   "id": "7f2c56ff",
   "metadata": {},
   "outputs": [],
   "source": [
    "import json # We need this line to work with json\n",
    "\n",
    "# We load the data directly from a file. We need to use encoding = 'utf-8' to make sure that\n",
    "# umlauts and so on are properly handled\n",
    "with open('opendata_quartiere_stadt_zh/stzh.adm_vermbezirke_a.json', encoding='utf-8') as json_file:\n",
    "    data = json.load(json_file)\n",
    "    \n",
    "# When we load json we have a dictionary\n",
    "# However, the dictionary can be nested, and contain other collections (e.g. lists of dictionaries and so on)\n",
    "\n",
    "#This command prints out the whole structure\n",
    "# Note that in this case we are interested in the coordinates and the names of the quartiers - you need to work out how to access those\n",
    "\n",
    "print(\"JSON START\")\n",
    "print(json.dumps(data,indent=2))\n",
    "print(\"JSON END\\n\")\n",
    "\n",
    "#I used that knowledge here. Basically, the geometry and metadata asscociated with each polygon is stored under the\n",
    "#key 'features'\n",
    "polygon = data['features']\n",
    "\n",
    "print(\"EXTRACTED INFORMATION\")\n",
    "for q in polygon:\n",
    "    name = q['properties']['name'] # I get the names here\n",
    "    coordinates = q['geometry']['coordinates'][0] # One quartier could be made up of multiple polygons, so they are stored as a list(polygons) of lists(poylgon) of lists(x,y)\n",
    "    print(name)    \n",
    "    for c in coordinates:\n",
    "        print(c)\n",
    "\n",
    "\n"
   ]
  },
  {
   "cell_type": "code",
   "execution_count": null,
   "id": "8838f509",
   "metadata": {},
   "outputs": [],
   "source": []
  }
 ],
 "metadata": {
  "kernelspec": {
   "display_name": "Python 3 (ipykernel)",
   "language": "python",
   "name": "python3"
  },
  "language_info": {
   "codemirror_mode": {
    "name": "ipython",
    "version": 3
   },
   "file_extension": ".py",
   "mimetype": "text/x-python",
   "name": "python",
   "nbconvert_exporter": "python",
   "pygments_lexer": "ipython3",
   "version": "3.9.7"
  }
 },
 "nbformat": 4,
 "nbformat_minor": 5
}

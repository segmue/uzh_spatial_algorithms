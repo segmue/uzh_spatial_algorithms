{
 "cells": [
  {
   "cell_type": "markdown",
   "id": "dc89e3ea",
   "metadata": {},
   "source": [
    "This notebook illustrates how ipyleaflet (a bridge between Python and Leaflet) can be used to draw a map. You can find documentation **<https://ipyleaflet.readthedocs.io/en/latest/>**. To get started you will need to install the ipyleaflet locally using pip or conda, e.g.:\n",
    "\n",
    "`pip install ipyleaflet`\n",
    "\n",
    "The example below shows an example of how the library can be used to draw a basemap with a simple circular marker at a given location."
   ]
  },
  {
   "cell_type": "code",
   "execution_count": 25,
   "id": "e786bba0",
   "metadata": {},
   "outputs": [
    {
     "data": {
      "application/vnd.jupyter.widget-view+json": {
       "model_id": "26b64eec9fb4460aaa97a0cc24ceecfa",
       "version_major": 2,
       "version_minor": 0
      },
      "text/plain": [
       "Map(center=[46.78513, 9.07178], controls=(ZoomControl(options=['position', 'zoom_in_text', 'zoom_in_title', 'z…"
      ]
     },
     "metadata": {},
     "output_type": "display_data"
    }
   ],
   "source": [
    "from ipyleaflet import Map, basemaps, basemap_to_tiles, CircleMarker\n",
    "\n",
    "center = (46.78513, 9.07178)\n",
    "\n",
    "map = Map(\n",
    "    basemap=basemap_to_tiles(basemaps.NASAGIBS.ModisTerraTrueColorCR, \"2021-02-21\"),\n",
    "    center=center,\n",
    "    zoom=7)\n",
    "\n",
    "circle_marker = CircleMarker()\n",
    "circle_marker.location = (center)\n",
    "circle_marker.radius = 5\n",
    "circle_marker.weight = 1\n",
    "circle_marker.color = \"red\"\n",
    "circle_marker.fill_color = \"red\"\n",
    "\n",
    "map.add_layer(circle_marker)\n",
    "\n",
    "map"
   ]
  },
  {
   "cell_type": "code",
   "execution_count": null,
   "id": "b4f46391",
   "metadata": {},
   "outputs": [],
   "source": []
  },
  {
   "cell_type": "code",
   "execution_count": null,
   "id": "ef09d7c9",
   "metadata": {},
   "outputs": [],
   "source": []
  }
 ],
 "metadata": {
  "kernelspec": {
   "display_name": "Python 3 (ipykernel)",
   "language": "python",
   "name": "python3"
  },
  "language_info": {
   "codemirror_mode": {
    "name": "ipython",
    "version": 3
   },
   "file_extension": ".py",
   "mimetype": "text/x-python",
   "name": "python",
   "nbconvert_exporter": "python",
   "pygments_lexer": "ipython3",
   "version": "3.9.7"
  }
 },
 "nbformat": 4,
 "nbformat_minor": 5
}

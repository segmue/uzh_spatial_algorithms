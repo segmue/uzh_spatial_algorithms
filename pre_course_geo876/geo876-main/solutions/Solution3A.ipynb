{
 "cells": [
  {
   "cell_type": "markdown",
   "metadata": {},
   "source": [
    "## Conditionals and loops\n",
    "Conditionals allow us to make decisions based on the values of variables, and to change the behaviour of a programme based on such values.\n",
    "\n",
    "Loops allow us to do things many times. \n",
    "\n",
    "We can combine loops with data structures storing collections (e.g. the lists and dictionaries we met in the last practical) to work with very large numbers of variables."
   ]
  },
  {
   "cell_type": "code",
   "execution_count": null,
   "metadata": {
    "scrolled": true
   },
   "outputs": [],
   "source": [
    "# We store each name as an individual variable\n",
    "names = [\"Zürich\", \"Basel\", \"Genf\"]\n",
    "\n",
    "# We can store coordinates as a list with two values\n",
    "coordinates =[[10, 10], [20, 20], [30, 30]]\n",
    "\n",
    "# Iterate through all the entries in names\n",
    "for name in names:\n",
    "    print(name)\n",
    "\n",
    "#Create an empty dictionary\n",
    "gaz = {}\n",
    "    \n",
    "# Populate a dictionary. We assume the two lists are the same length and correctly ordered\n",
    "# We use the length of the list to determine how many steps we make\n",
    "for i in range(len(names)):\n",
    "    gaz[names[i]] = coordinates[i]\n",
    "\n",
    "print(gaz)"
   ]
  },
  {
   "cell_type": "markdown",
   "metadata": {},
   "source": [
    "1. Extend the code in the cell above with your solution to the distance calculations from the previous practicals to calculate the distances between all pairs of cities.\n",
    "2. Use conditional statements to output the names of the two cities which were most distant from one another.\n",
    "3. Use conditional statements to check if the most distant cities remain the same when we use Manhattan and Euclidean distances."
   ]
  },
  {
   "cell_type": "code",
   "execution_count": 9,
   "metadata": {},
   "outputs": [
    {
     "name": "stdout",
     "output_type": "stream",
     "text": [
      "Zürich\n",
      "Basel\n",
      "Genf\n",
      "\n",
      "{'Zürich': [2683455, 1247914], 'Basel': [2611518, 1267300], 'Genf': [2500378, 1118099]}\n",
      "\n",
      "Distance from Zürich to Zürich is (Manhattan) 0km, (Euclidean) 0km\n",
      "Distance from Zürich to Basel is (Manhattan) 91km, (Euclidean) 75km\n",
      "Distance from Zürich to Genf is (Manhattan) 313km, (Euclidean) 224km\n",
      "Distance from Basel to Zürich is (Manhattan) 91km, (Euclidean) 75km\n",
      "Distance from Basel to Basel is (Manhattan) 0km, (Euclidean) 0km\n",
      "Distance from Basel to Genf is (Manhattan) 260km, (Euclidean) 186km\n",
      "Distance from Genf to Zürich is (Manhattan) 313km, (Euclidean) 224km\n",
      "Distance from Genf to Basel is (Manhattan) 260km, (Euclidean) 186km\n",
      "Distance from Genf to Genf is (Manhattan) 0km, (Euclidean) 0km\n",
      "\n",
      "The maximum Manhattan distance is from Zürich to Genf and is 313km.\n",
      "The maximum Euclidean distance is from Zürich to Genf and is 224km.\n",
      "The two cities furthest apart do not change according to whether we use Manhattan or Euclidean metrics\n"
     ]
    }
   ],
   "source": [
    "# We store each name as an individual variable\n",
    "names = [\"Zürich\", \"Basel\", \"Genf\"]\n",
    "\n",
    "# We can store coordinates as a list with two values\n",
    "coordinates =[[2683455, 1247914], [2611518, 1267300], [2500378, 1118099]]\n",
    "\n",
    "# Iterate through all the entries in names\n",
    "\n",
    "for name in names:\n",
    "    print(name)\n",
    "print()\n",
    "\n",
    "#Create an empty dictionary\n",
    "gaz = {}\n",
    "    \n",
    "# Populate a dictionary. We assume the two lists are the same length and correctly ordered\n",
    "# We use the length of the list to determine how many steps we make\n",
    "\n",
    "for i in range(len(names)):\n",
    "    gaz[names[i]] = coordinates[i]\n",
    "\n",
    "print(gaz)\n",
    "print()\n",
    "\n",
    "# Now we can use our dictionary to calculate the distances, and at the same time look for the maximum distance\n",
    "# We know that distance can't be less than zero, so we will start with that\n",
    "\n",
    "maxMatDist = 0\n",
    "maxEucDist = 0\n",
    "\n",
    "# We use a nested loop (two loops) two iterate through all 9 cases\n",
    "for name in gaz.keys():\n",
    "    c1 = gaz[name]\n",
    "    for name2 in gaz.keys():\n",
    "        c2 = gaz[name2]\n",
    "        # Now we do the calcuation of distance \n",
    "        xDist = c1[0] - c2[0]\n",
    "        xDistSq = xDist ** 2\n",
    "        xDist = xDistSq ** 0.5\n",
    "        yDist = c1[1] - c2[1]\n",
    "        yDistSq = yDist ** 2\n",
    "        yDist = yDistSq ** 0.5\n",
    "\n",
    "        # We divide the final distances by 1000 to get answers in kilometers\n",
    "        mDist = (xDist + yDist)/1000\n",
    "        eucDist = ((xDistSq + yDistSq) ** 0.5)/1000\n",
    "        \n",
    "        print(f'Distance from {name} to {name2} is (Manhattan) {mDist:.0f}km, (Euclidean) {eucDist:.0f}km')\n",
    "        \n",
    "        # Now we can also work out which value is the maximum\n",
    "        if (mDist > maxMatDist):\n",
    "            maxMatDist = mDist\n",
    "            maxMatKey = name + \" to \" + name2\n",
    "        if (eucDist > maxEucDist):\n",
    "            maxEucDist = eucDist\n",
    "            maxEucKey = name + \" to \" + name2\n",
    "print()            \n",
    "print(f'The maximum Manhattan distance is from {maxMatKey} and is {maxMatDist:.0f}km.')\n",
    "print(f'The maximum Euclidean distance is from {maxEucKey} and is {maxEucDist:.0f}km.')\n",
    "\n",
    "print()\n",
    "# Now we check if the maximum distance is the same according to how it is claculated\n",
    "if (maxMatKey == maxEucKey):\n",
    "    print(f'The two cities furthest apart do not change according to whether we use Manhattan or Euclidean metrics')\n",
    "else: \n",
    "    print(f'The two cities furthest apart change according to whether we use Manhattan or Euclidean metrics')\n",
    "        \n"
   ]
  },
  {
   "cell_type": "code",
   "execution_count": 10,
   "metadata": {},
   "outputs": [
    {
     "name": "stdout",
     "output_type": "stream",
     "text": [
      "[27, 45, 46, 130, 286, 343, 370, 638, 683, 759]\n",
      "Median index 5 and 4\n",
      "Median:  314.5\n"
     ]
    }
   ],
   "source": [
    "# This line imports a library, don't worry about it for now. We need it to calculate (pseudo-) random numbers\n",
    "\n",
    "from random import randint\n",
    "\n",
    "# Create an empty list\n",
    "numbers = []\n",
    "size = 10\n",
    "\n",
    "# Iterate through values between 0 and range-1\n",
    "for i in range(size):\n",
    "    # Add random numbers to the list\n",
    "    r = randint(0,1000)\n",
    "    numbers.append(r)\n",
    "\n",
    "# We must sort before we calcuate the median\n",
    "numbers=sorted(numbers)\n",
    "print(numbers)\n",
    "\n",
    "# Calculate the median by hand\n",
    "# First we find out how long the list is\n",
    "\n",
    "numbersLen = len(numbers)\n",
    "\n",
    "median = 'undefined'\n",
    "# The % operator calculates the modulus (the remainder - we use it to test if our list has an even or odd number of values)\n",
    "\n",
    "if (numbersLen%2 == 0):\n",
    "    j = int(numbersLen/2)\n",
    "    print(f'Median index {j} and {j-1}')\n",
    "    # If the list is even, the median is the average of the two middle values\n",
    "    median = (numbers[j] + numbers[j-1])/2\n",
    "else:\n",
    "    j = int(((numbersLen + 1)/2) - 1)\n",
    "    print(f'Median index {j}')\n",
    "    # If the list is odd we just grab the middle value\n",
    "    median = numbers[j]\n",
    "\n",
    "print(f'Median:  {median}')"
   ]
  },
  {
   "cell_type": "markdown",
   "metadata": {},
   "source": [
    "The code above creates a list containing n numbers. Since the values are added in order, we can easily calculate the median by looking at the middle value if the list has an odd number of entries, and the average of the two middle values if the list has an even number of values.\n",
    "\n",
    "1. Modify the code and convince yourself that the median function is correct.\n",
    "2. Instead of adding ordered values to the list, add random values - the median calculation will now return nonsense values.\n",
    "3. Modify the code to fix this problem. Hint: You will only need one line of code to do so!"
   ]
  },
  {
   "cell_type": "markdown",
   "metadata": {},
   "source": [
    "We can use loops to perform many operations. These can make it straightforward to, for example, calculate long sequences. One example of such a sequence are the [Fibonacci numbers](https://en.wikipedia.org/wiki/Fibonacci_number). We will use lists and a loop to calculate the values in such a sequence. \n",
    "\n",
    "1. Write a loop below that calculates a given number of Fibonacci numbers, and stores the individual values in a list.\n",
    "2. Modify your code so that the loop stops when value in the sequence exceeds a predefined value. Output the index of the value, and print to the screen the previous value and its index."
   ]
  },
  {
   "cell_type": "code",
   "execution_count": 15,
   "metadata": {},
   "outputs": [
    {
     "name": "stdout",
     "output_type": "stream",
     "text": [
      "[0, 1, 1, 2, 3, 5, 8, 13, 21, 34, 55, 89, 144, 233, 377, 610, 987, 1597, 2584, 4181]\n"
     ]
    }
   ],
   "source": [
    "# A loop to create a series of Fibonacci numbers and store them in a lsit \n",
    "# The Fibonacci numbers are simply the sum of the two previous values, so we\n",
    "# first create a list with the first two values (0 and 1)\n",
    "fibonacci_numbers = [0, 1]\n",
    "\n",
    "numVals = 20\n",
    "for i in range(2,numVals):\n",
    "    # We use the two previous values, and append the new on to the list\n",
    "    newVal = fibonacci_numbers[i-1]+fibonacci_numbers[i-2]\n",
    "    fibonacci_numbers.append(newVal)\n",
    "\n",
    "# Print the series of Fibonacci numbers to the screen\n",
    "\n",
    "print(fibonacci_numbers)"
   ]
  },
  {
   "cell_type": "code",
   "execution_count": 19,
   "metadata": {},
   "outputs": [
    {
     "name": "stdout",
     "output_type": "stream",
     "text": [
      "[0, 1, 1, 2, 3, 5, 8, 13, 21, 34, 55, 89]\n",
      "For the maximum value of 100, the highest Fibonacci number at index 11 is 89\n",
      "The next value at index 12 is greater than 100\n"
     ]
    }
   ],
   "source": [
    "# A loop to create a series of Fibonacci numbers and store them in a lsit \n",
    "# The Fibonacci numbers are simply the sum of the two previous values, so we\n",
    "# first create a list with the first two values (0 and 1)\n",
    "fibonacci_numbers = [0, 1]\n",
    "\n",
    "numVals = 20\n",
    "maxVal = 100\n",
    "for i in range(2,numVals):\n",
    "    # We use the two previous values, and append the new on to the list\n",
    "    newVal = fibonacci_numbers[i-1]+fibonacci_numbers[i-2]\n",
    "    if newVal > maxVal:\n",
    "        break #Break exits our for loop immediately\n",
    "    fibonacci_numbers.append(newVal)\n",
    "\n",
    "# Print the series of Fibonacci numbers to the screen\n",
    "\n",
    "print(fibonacci_numbers)\n",
    "\n",
    "print(f'For the maximum value of {maxVal}, the highest Fibonacci number at index {i-1} is {fibonacci_numbers[i-1]}')\n",
    "print(f'The next value at index {i} is greater than {maxVal}')"
   ]
  },
  {
   "cell_type": "code",
   "execution_count": null,
   "metadata": {},
   "outputs": [],
   "source": []
  }
 ],
 "metadata": {
  "kernelspec": {
   "display_name": "Python 3 (ipykernel)",
   "language": "python",
   "name": "python3"
  },
  "language_info": {
   "codemirror_mode": {
    "name": "ipython",
    "version": 3
   },
   "file_extension": ".py",
   "mimetype": "text/x-python",
   "name": "python",
   "nbconvert_exporter": "python",
   "pygments_lexer": "ipython3",
   "version": "3.9.7"
  }
 },
 "nbformat": 4,
 "nbformat_minor": 4
}

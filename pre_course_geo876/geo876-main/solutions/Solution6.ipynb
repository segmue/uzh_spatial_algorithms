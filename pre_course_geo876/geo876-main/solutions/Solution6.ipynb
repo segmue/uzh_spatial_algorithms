{
 "cells": [
  {
   "cell_type": "markdown",
   "metadata": {},
   "source": [
    "## Manipulating numbers, dates and text\n",
    "\n",
    "We've now seen some useful methods, which we can subsitute for things we have already implemented. \n",
    "1. If you look at my solution for Practical 5 you will see I use the min method to pull values from lists.\n",
    "2. The Point class below deals with n-dimensional points. It uses iteration to print coordinates to the screen and calculat distance, since we don't know how many dimensions a point has. To calculate distance, we also need to make sure Points have the same number of dimensions\n",
    "3. Two examples show how we can use the datetime package. This is super useful, but be careful about things like time zones and so on, you can easily introduce bugs if you don't (here we do it in a simply way, and don't give a locale (e.g. we assume universal time)"
   ]
  },
  {
   "cell_type": "code",
   "execution_count": 1,
   "metadata": {
    "scrolled": true
   },
   "outputs": [
    {
     "name": "stdout",
     "output_type": "stream",
     "text": [
      "(3, 3)\n",
      "(4, 4)\n",
      "The distance between the points is 1.4142135623730951\n",
      "\n",
      "(3, 3, 6)\n",
      "(4, 4, 4)\n",
      "\n",
      "The distance between the points is 2.449489742783178\n",
      "\n",
      "The points are not compatible\n",
      "(3, 3)\n",
      "(4, 4, 4)\n",
      "(3, 3)\n",
      "(4, 4, 4)\n",
      "The distance between the points is None\n",
      "\n"
     ]
    }
   ],
   "source": [
    "import math\n",
    "# A Point class which can deal with n-dimensional points\n",
    "class Point:\n",
    "    # coords is a list with n-entries\n",
    "    def __init__(self, coords):\n",
    "        self.coords = coords \n",
    "    \n",
    "    # Print the coordinates to the screen. We use a String so that we can\n",
    "    # delete the last comma and do it tidily\n",
    "    def report(self):\n",
    "        s = \"(\"\n",
    "        for c in self.coords:\n",
    "            s = s + str(c) + \", \"\n",
    "        s = s[:-2] + \")\"\n",
    "        print(s)\n",
    "        \n",
    "    # Distance in n-dimensions            \n",
    "    def distance(self, other):\n",
    "        #First check both points have the same number of dimensions\n",
    "        if len(self.coords) != len(other.coords):\n",
    "            print(f'The points are not compatible')\n",
    "            self.report()\n",
    "            other.report()\n",
    "            return None\n",
    "        # To calculate distance we now add the square of the difference for each dimension and then calcuate the square root\n",
    "        distance = 0            \n",
    "        for c1, c2 in zip(self.coords, other.coords): # I use the command zip here to iterate through both lists in parallel\n",
    "            distance = distance + (c1 - c2)**2\n",
    "        distance = math.sqrt(distance) # we use the function sqrt instead of **0.5 - both are fine\n",
    "        return distance\n",
    "\n",
    "# Test with 2D points as before\n",
    "p = Point([3,3])\n",
    "q = Point([4,4])\n",
    "d = p.distance(q)\n",
    "\n",
    "p.report()\n",
    "q.report()\n",
    "print(f\"The distance between the points is {d}\")\n",
    "print()\n",
    "\n",
    "# Test with 3D points\n",
    "p = Point([3,3,6])\n",
    "q = Point([4,4,4])\n",
    "d = p.distance(q)\n",
    "\n",
    "p.report()\n",
    "q.report()\n",
    "print()\n",
    "print(f\"The distance between the points is {d}\")\n",
    "print()\n",
    "\n",
    "# Test with points that are not compatible\n",
    "p = Point([3,3])\n",
    "q = Point([4,4,4])\n",
    "d = p.distance(q)\n",
    "\n",
    "p.report()\n",
    "q.report()\n",
    "print(f\"The distance between the points is {d}\")\n",
    "print()\n",
    "\n"
   ]
  },
  {
   "cell_type": "code",
   "execution_count": 2,
   "metadata": {},
   "outputs": [
    {
     "name": "stdout",
     "output_type": "stream",
     "text": [
      " I was born on a Saturday\n"
     ]
    }
   ],
   "source": [
    "#Use the datetime package to work out on what day of the week you were born.\n",
    "\n",
    "from datetime import datetime, date, time, timedelta, tzinfo\n",
    "my_birth_D = datetime.strptime(\"14-04-1984 09:05:00\", \"%d-%m-%Y %H:%M:%S\")\n",
    "my_birth_D.weekday()\n",
    "my_birth_D.date().strftime(\"%A\")\n",
    "\n",
    "print(f' I was born on a {my_birth_D.date().strftime(\"%A\")}')"
   ]
  },
  {
   "cell_type": "code",
   "execution_count": 4,
   "metadata": {},
   "outputs": [
    {
     "name": "stdout",
     "output_type": "stream",
     "text": [
      "\n",
      "In a 45 year working life, starting in 2011 a Scot gains 38 days of holidays at Christmas and New Year\n"
     ]
    }
   ],
   "source": [
    "scot_hol = 0\n",
    "startYear = 2011\n",
    "work= 45\n",
    "\n",
    "year = startYear\n",
    "for i in range (work):\n",
    "    xmas = date(year, 12, 25)\n",
    "    xInt = xmas.weekday() # We use this function to get the day back as an integer\n",
    "    xStr = xmas.strftime(\"%A\") # And this function as a String in English\n",
    "    # We know that New Year is always exactly one week later, so we don't need to look at it\n",
    "    if (xStr == \"Saturday\"): # Two weekends lost in Switzerland\n",
    "        scot_hol = scot_hol + 4 \n",
    "    elif (xStr == \"Sunday\"): # Two days lost in Switzerland (if 2.1. is also a holiday)\n",
    "        scot_hol = scot_hol + 2\n",
    "    year = year + 1\n",
    "\n",
    "print()\n",
    "print(f'In a {work} year working life, starting in {startYear} a Scot gains {scot_hol} days of holidays at Christmas and New Year')"
   ]
  },
  {
   "cell_type": "code",
   "execution_count": null,
   "metadata": {},
   "outputs": [],
   "source": []
  }
 ],
 "metadata": {
  "kernelspec": {
   "display_name": "Python 3 (ipykernel)",
   "language": "python",
   "name": "python3"
  },
  "language_info": {
   "codemirror_mode": {
    "name": "ipython",
    "version": 3
   },
   "file_extension": ".py",
   "mimetype": "text/x-python",
   "name": "python",
   "nbconvert_exporter": "python",
   "pygments_lexer": "ipython3",
   "version": "3.9.7"
  }
 },
 "nbformat": 4,
 "nbformat_minor": 4
}

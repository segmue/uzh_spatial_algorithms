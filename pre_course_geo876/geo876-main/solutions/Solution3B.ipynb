{
 "cells": [
  {
   "cell_type": "markdown",
   "metadata": {},
   "source": [
    "## Conditionals, loops and functions\n",
    "\n",
    "Functions let us separate out behaviours that we need often into functions, which can be called from our programme and return values"
   ]
  },
  {
   "cell_type": "code",
   "execution_count": 1,
   "metadata": {
    "scrolled": true
   },
   "outputs": [
    {
     "name": "stdout",
     "output_type": "stream",
     "text": [
      "Zürich\n",
      "Basel\n",
      "Genf\n",
      "{'ZÜR': ['Zürich', [2683455, 1247914]], 'BAS': ['Basel', [2611518, 1267300]], 'GEN': ['Genf', [2500378, 1118099]]}\n"
     ]
    }
   ],
   "source": [
    "# This simple function shortens a string and transforms it to upper case\n",
    "\n",
    "def tla(name):\n",
    "    name = name[:3] # chops the string so it only has three letters\n",
    "    name = name.upper()\n",
    "    return name\n",
    "\n",
    "# Here I create a list of names\n",
    "\n",
    "names =[\"Zürich\", \"Basel\", \"Genf\"]\n",
    "# And here a list of lists...\n",
    "\n",
    "coordinates =[[2683455, 1247914], [2611518, 1267300], [2500378, 1118099]]\n",
    "\n",
    "# Iterate through all the entries in names\n",
    "\n",
    "for name in names:\n",
    "    print(name)\n",
    "\n",
    "#Create an empty dictionary\n",
    "\n",
    "gaz = {}\n",
    "    \n",
    "# Populate a dictionary. We assume the two lists are the same length and correctly ordered\n",
    "# We use the length of the list to determine how many steps we make\n",
    "\n",
    "for i in range(len(names)):\n",
    "    name = tla(names[i]) # We use our function to shorten the string\n",
    "    gaz[name] = [names[i], coordinates[i]]  \n",
    "\n",
    "print(gaz)"
   ]
  },
  {
   "cell_type": "markdown",
   "metadata": {},
   "source": [
    "The code above uses loops to iterate through lists and dictionaries. It has one function in which we shorten the place names. It builds a very simple gazetteer.\n",
    "\n",
    "1. Add functions to calculate distance between two coordinates using Manhattan and Euclidean distance\n",
    "2. Write a loop to calculate distances between all pairs of locations and store them in a dictionary. \n",
    "3. Print the final matrix to the screen, showing the abbreviated names and the distances between them\n",
    "3. Improve your code to \n",
    "    1. Only calculate distances once in the matrix\n",
    "    2. Not calculate distances between identical coordinates. Hint: use the `continue` keyword here.\n",
    "    \n",
    "N.B. You can reuse some of the code you already have to do this."
   ]
  },
  {
   "cell_type": "code",
   "execution_count": 6,
   "metadata": {},
   "outputs": [
    {
     "name": "stdout",
     "output_type": "stream",
     "text": [
      "Manhattan distance from Basel to Genf is 260km\n"
     ]
    }
   ],
   "source": [
    "# Manhattan function\n",
    "def manhattan_distance(a, b):\n",
    "    x1 = a[0]\n",
    "    y1 = a[1]\n",
    "    x2 = b[0]\n",
    "    y2 = b[1]\n",
    "    dist = abs(x1 - x2)/1000 + abs(y1 - y2)/1000\n",
    "    \n",
    "    return dist\n",
    "\n",
    "# Test function\n",
    "c1 = gaz['BAS'][1]\n",
    "c2 = gaz['GEN'][1]\n",
    "dist = manhattan_distance(c1, c2)\n",
    "print(f'Manhattan distance from Basel to Genf is {dist:.0f}km')"
   ]
  },
  {
   "cell_type": "code",
   "execution_count": 9,
   "metadata": {},
   "outputs": [
    {
     "name": "stdout",
     "output_type": "stream",
     "text": [
      "Euclidean distance from Basel to Genf is 186km\n"
     ]
    }
   ],
   "source": [
    "# Euclidean function \n",
    "def eucli_distance(a, b): \n",
    "    x1 = a[0]\n",
    "    y1 = a[1]\n",
    "    x2 = b[0]\n",
    "    y2 = b[1]\n",
    "    dist = (((x1 - x2)**2 + (y1 - y2)**2)**0.5)/1000\n",
    "    \n",
    "    return dist\n",
    "\n",
    "#calculate Euclidean distance between coordinates; uncomment to check how the function works\n",
    "# Test function\n",
    "c1 = gaz['BAS'][1]\n",
    "c2 = gaz['GEN'][1]\n",
    "dist = eucli_distance(c1, c2)\n",
    "print(f'Euclidean distance from Basel to Genf is {dist:.0f}km')"
   ]
  },
  {
   "cell_type": "code",
   "execution_count": 12,
   "metadata": {},
   "outputs": [
    {
     "name": "stdout",
     "output_type": "stream",
     "text": [
      "{'ZÜR_ZÜR': [0.0, 0.0], 'ZÜR_BAS': [91.323, 74.50334868312967], 'ZÜR_GEN': [312.892, 224.43066224114742], 'BAS_ZÜR': [91.323, 74.50334868312967], 'BAS_BAS': [0.0, 0.0], 'BAS_GEN': [260.341, 186.0457954402625], 'GEN_ZÜR': [312.892, 224.43066224114742], 'GEN_BAS': [260.341, 186.0457954402625], 'GEN_GEN': [0.0, 0.0]}\n"
     ]
    }
   ],
   "source": [
    "# Now we can use our gazetteer and the two functions to calculate all the distances\n",
    "\n",
    "#We create an empty dictionary to store the distances\n",
    "cityDistances = {}\n",
    "\n",
    "# Again we use a nested loop to iterate through all the cases\n",
    "for tla in gaz.keys():\n",
    "    c1 = gaz[tla][1]\n",
    "    for tla2 in gaz.keys():\n",
    "        c2 = gaz[tla2][1]\n",
    "        mDist = manhattan_distance(c1,c2)\n",
    "        eDist = eucli_distance(c1,c2)\n",
    "        cityDistances[tla + \"_\" + tla2] = [mDist, eDist] # We add the values as a list\n",
    "\n",
    "print(cityDistances)"
   ]
  },
  {
   "cell_type": "code",
   "execution_count": 17,
   "metadata": {},
   "outputs": [
    {
     "name": "stdout",
     "output_type": "stream",
     "text": [
      "{'ZÜR_ZÜR': [0, 0], 'ZÜR_BAS': [91.323, 74.50334868312967], 'ZÜR_GEN': [312.892, 224.43066224114742], 'BAS_BAS': [0, 0], 'BAS_GEN': [260.341, 186.0457954402625], 'GEN_GEN': [0, 0]}\n"
     ]
    }
   ],
   "source": [
    "# Solution which doesn't call function unnecessarily \n",
    "\n",
    "# Now we can use our gazetteer and the two functions to calculate all the distances\n",
    "\n",
    "#We create an empty dictionary to store the distances\n",
    "cityDistances = {}\n",
    "\n",
    "# Again we use a nested loop to iterate through all the cases\n",
    "for tla in gaz.keys():\n",
    "    c1 = gaz[tla][1]\n",
    "    for tla2 in gaz.keys():\n",
    "        # Since our matrix is symmetric, we can avoid calculating values twice by checking if \n",
    "        # a \"reflected\" key already exists\n",
    "        # We use the method \"get\" on our dictionary, which returns a special value None if a key is not present\n",
    "        # We then use the not equals operator (!=) to find cases where a reflected key is already present\n",
    "        if (cityDistances.get(tla2 + \"_\" + tla) != None):\n",
    "            continue # This continue means that we step forward in the loop\n",
    "        if tla == tla2: # This if statement stops us from calculating the value if the cities are the same\n",
    "            mDist = 0\n",
    "            eDist = 0\n",
    "        else:    \n",
    "            c2 = gaz[tla2][1]\n",
    "            mDist = manhattan_distance(c1,c2)\n",
    "            eDist = eucli_distance(c1,c2)\n",
    "        \n",
    "        cityDistances[tla + \"_\" + tla2] = [mDist, eDist] # We add the values as a list\n",
    "\n",
    "print(cityDistances)"
   ]
  },
  {
   "cell_type": "code",
   "execution_count": null,
   "metadata": {},
   "outputs": [],
   "source": []
  }
 ],
 "metadata": {
  "kernelspec": {
   "display_name": "Python 3 (ipykernel)",
   "language": "python",
   "name": "python3"
  },
  "language_info": {
   "codemirror_mode": {
    "name": "ipython",
    "version": 3
   },
   "file_extension": ".py",
   "mimetype": "text/x-python",
   "name": "python",
   "nbconvert_exporter": "python",
   "pygments_lexer": "ipython3",
   "version": "3.9.7"
  }
 },
 "nbformat": 4,
 "nbformat_minor": 4
}

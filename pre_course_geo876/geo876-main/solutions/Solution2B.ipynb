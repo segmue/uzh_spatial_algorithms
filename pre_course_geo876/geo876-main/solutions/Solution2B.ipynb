{
 "cells": [
  {
   "cell_type": "markdown",
   "metadata": {},
   "source": [
    "## Working with dictionaries and lists\n",
    "Lists are usually used to store values of the same type. We access values using their address, and order is maintained. It is also possible to have duplicate values.\n",
    "\n",
    "Dictionaries have keys and values, and keys must be unique. We access values using their keys. Note that in this example, the keys are strings and the values are lists."
   ]
  },
  {
   "cell_type": "markdown",
   "metadata": {},
   "source": [
    "1. Substitute the real coordinates for the ones I used. \n",
    "2. Add code to calculate the Euclidean distance between Zurich and Basel\n",
    "3. Extend the code to calcuate distances between all three cities and store these in a dictionary. As keys for the dictionary, use the city names concatented together. To concatenate two strings you can just add them.\n",
    "4. Think about how you could store both Manhattan distances and Euclidean ones in a dictionary."
   ]
  },
  {
   "cell_type": "code",
   "execution_count": 4,
   "metadata": {},
   "outputs": [
    {
     "name": "stdout",
     "output_type": "stream",
     "text": [
      "{'Zürich': [2683455, 1247914], 'Basel': [2611518, 1267300], 'Genf': [2500378, 1118099]}\n",
      "Manhattan distance from Zürich to Basel is 91 km\n",
      "Euclidean distance from Zürich to Basel is 74 km\n"
     ]
    }
   ],
   "source": [
    "z = \"Zürich\"\n",
    "b = \"Basel\"\n",
    "g = \"Genf\"\n",
    "\n",
    "# Here are the real coordinates\n",
    "zc = [2683455, 1247914]\n",
    "bc = [2611518, 1267300]\n",
    "gc = [2500378, 1118099]\n",
    "\n",
    "# We add them to a dictionary, using the place names as keys\n",
    "\n",
    "gazDict = {z: zc, b: bc, g: gc}\n",
    "print(gazDict)\n",
    "\n",
    "# Show what is stored in our keys and values\n",
    "\n",
    "gazDict.keys()\n",
    "gazDict.values()\n",
    "\n",
    "# Get the coordinates for Zurich and Basel back (remember these are lists)\n",
    "\n",
    "cz = gazDict[z] # Here z is the key which allows us to find the value - the value is a list (in this case of two integers)\n",
    "cb = gazDict[b]\n",
    "\n",
    "# We access the list values using their address (i.e. their position)\n",
    "\n",
    "xDist = cz[0] - cb[0]\n",
    "yDist = cz[1] - cb[1]\n",
    "\n",
    "# We need to convert these to absolute values - there are simpler ways but you don't know how yet\n",
    "\n",
    "xDist = xDist ** 2\n",
    "xDist = xDist ** 0.5\n",
    "\n",
    "yDist = yDist ** 2\n",
    "yDist = yDist ** 0.5\n",
    "\n",
    "# Calcuate the Manhattan distance between Zurich and Basel\n",
    "\n",
    "dist_zb = int((xDist + yDist) / 1000)\n",
    "\n",
    "# Calcuate the Euclidean distance between Zurich and Basel\n",
    "           \n",
    "eu_dist_zb = int((((xDist**2) + (yDist**2))**0.5) / 1000)\n",
    "\n",
    "# Print the results for the Manhattan and Euclidean distances between Zurich and Basel to the screen\n",
    "\n",
    "print(f'Manhattan distance from {z} to {b} is {dist_zb} km')\n",
    "\n",
    "print(f'Euclidean distance from {z} to {b} is {eu_dist_zb} km')           \n"
   ]
  },
  {
   "cell_type": "code",
   "execution_count": 5,
   "metadata": {},
   "outputs": [
    {
     "name": "stdout",
     "output_type": "stream",
     "text": [
      "Manhattan distance from Zürich to Genf is 312 km\n",
      "Euclidean distance from Zürich to Genf is 224 km\n"
     ]
    }
   ],
   "source": [
    "# Manhattan and Euclidean for the distance Zurich – Genf \n",
    "\n",
    "cz = gazDict[z]\n",
    "cg = gazDict[g]\n",
    "\n",
    "# We access the list values using their address (i.e. their position)\n",
    "\n",
    "xDist = cz[0] - cg[0]\n",
    "yDist = cz[1] - cg[1]\n",
    "\n",
    "# We need to convert these to absolute values - there are simpler ways but you don't know how yet\n",
    "\n",
    "xDist = xDist ** 2\n",
    "xDist = xDist ** 0.5\n",
    "\n",
    "yDist = yDist ** 2\n",
    "yDist = yDist ** 0.5\n",
    "\n",
    "# Calcuate the Manhattan distance between Zurich and Genf\n",
    "\n",
    "dist_zg = int((xDist + yDist) / 1000)\n",
    "\n",
    "# Calcuate the Euclidean distance between Zurich and Genf\n",
    "           \n",
    "eu_dist_zg = int((((xDist**2) + (yDist**2))**0.5) / 1000)\n",
    "\n",
    "# Print the results for the Manhattan and Euclidean distances between Zurich and Genf to the screen\n",
    "\n",
    "print(f'Manhattan distance from {z} to {g} is {dist_zg} km')\n",
    "\n",
    "print(f'Euclidean distance from {z} to {g} is {eu_dist_zg} km')           \n"
   ]
  },
  {
   "cell_type": "code",
   "execution_count": 6,
   "metadata": {},
   "outputs": [
    {
     "name": "stdout",
     "output_type": "stream",
     "text": [
      "Manhattan distance from Basel to Genf is 260 km\n",
      "Euclidean distance from Basel to Genf is 186 km\n"
     ]
    }
   ],
   "source": [
    "# Manhattan and Euclidean distance for Basel – Genf \n",
    "\n",
    "cb = gazDict[b]\n",
    "cg = gazDict[g]\n",
    "\n",
    "# We access the list values using their address (i.e. their position)\n",
    "\n",
    "xDist = cb[0] - cg[0]\n",
    "yDist = cb[1] - cg[1]\n",
    "\n",
    "# We need to convert these to absolute values - there are simpler ways but you don't know how yet\n",
    "\n",
    "xDist = xDist ** 2\n",
    "xDist = xDist ** 0.5\n",
    "\n",
    "yDist = yDist ** 2\n",
    "yDist = yDist ** 0.5\n",
    "\n",
    "# Calcuate the Manhattan distance between Basel and Genf\n",
    "\n",
    "dist_bg = int((xDist + yDist) / 1000)\n",
    "\n",
    "# Calcuate the Euclidean distance between Zurich and Genf\n",
    "           \n",
    "eu_dist_bg = int((((xDist**2) + (yDist**2))**0.5) / 1000)\n",
    "\n",
    "# Print the results for the Manhattan and Euclidean distances between Basel and Genf to the screen\n",
    "\n",
    "print(f'Manhattan distance from {b} to {g} is {dist_bg} km')\n",
    "\n",
    "print(f'Euclidean distance from {b} to {g} is {eu_dist_bg} km')      "
   ]
  },
  {
   "cell_type": "code",
   "execution_count": 7,
   "metadata": {},
   "outputs": [
    {
     "name": "stdout",
     "output_type": "stream",
     "text": [
      "{'ZürichBasel': 91, 'ZürichGenf': 312, 'BaselGenf': 260}\n",
      "{'ZürichBasel': 74, 'ZürichGenf': 224, 'BaselGenf': 186}\n"
     ]
    }
   ],
   "source": [
    "# Dictionary of Manhattan distances\n",
    "\n",
    "mahdict= {z+b: dist_zb, z+g: dist_zg, b+g: dist_bg}\n",
    "\n",
    "# Dictionary of Euclidean distances \n",
    "\n",
    "eudict= {z+b: eu_dist_zb, z+g: eu_dist_zg, b+g: eu_dist_bg}\n",
    "\n",
    "print(mahdict)\n",
    "print(eudict)"
   ]
  },
  {
   "cell_type": "code",
   "execution_count": 8,
   "metadata": {},
   "outputs": [
    {
     "name": "stdout",
     "output_type": "stream",
     "text": [
      "{'ZürichBasel': [74, 91], 'ZürichGenf': [224, 312], 'BaselGenf': [186, 260]}\n"
     ]
    }
   ],
   "source": [
    "# Dictionary combining Manhattan and Euclidean distances\n",
    "# Dictionaries can store any sorts of objects as values - remember key need to be unique\n",
    "\n",
    "euMaDict= {z+b: [eu_dist_zb,dist_zb], z+g: [eu_dist_zg,dist_zg], b+g:[eu_dist_bg,dist_bg]}\n",
    "print(euMaDict)"
   ]
  },
  {
   "cell_type": "code",
   "execution_count": null,
   "metadata": {},
   "outputs": [],
   "source": []
  }
 ],
 "metadata": {
  "kernelspec": {
   "display_name": "Python 3 (ipykernel)",
   "language": "python",
   "name": "python3"
  },
  "language_info": {
   "codemirror_mode": {
    "name": "ipython",
    "version": 3
   },
   "file_extension": ".py",
   "mimetype": "text/x-python",
   "name": "python",
   "nbconvert_exporter": "python",
   "pygments_lexer": "ipython3",
   "version": "3.9.7"
  }
 },
 "nbformat": 4,
 "nbformat_minor": 4
}

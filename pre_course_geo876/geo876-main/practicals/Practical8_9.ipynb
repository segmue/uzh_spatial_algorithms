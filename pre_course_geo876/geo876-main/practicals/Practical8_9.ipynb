{
 "cells": [
  {
   "cell_type": "markdown",
   "id": "55e26aee",
   "metadata": {},
   "source": [
    "## Using Pandas and visualising our data\n",
    "\n",
    "In this practical we are going to work with Pandas and Matplotlib and/ or Seaborn. Our aim is to do the following:\n",
    "\n",
    "1. Read in a file from a CSV to a Panda's dataframe\n",
    "2. Inspect the data and remove rows containing erroneous data\n",
    "3. Clean some corrupted values in the data \n",
    "4. Summarise, explore and visualise the data in some meaningful way\n",
    "\n",
    "The dataset we are going to work with are 10000 randomly selected rows from SwissNames3D, a gazetteer of placenames made available by [SwissTopo](https://www.swisstopo.admin.ch/de/geodata/landscape/names3d.html). I have preprocessed the data a little, removing some rows, and introducing errors to some values. The file name is ´swissNAMES_3D_sample_with_errors.csv´. It is in this directory, so you can load it directly by writing:\n",
    "\n",
    "`df = pd.read_csv('swissNAMES_3D_sample_with_errors.csv',  encoding = 'utf8')`\n",
    "\n",
    "You can find out more about the data and the meanings of the different attributes on the SwissTopo page linked to above. \n",
    "\n",
    "You should first of all prepare the data (steps 1-3 above). Once you are satisfied that the data are ready for analysis, think about some interesting ways to explore these data, discuss them with the tutors, and produce at least two plots showing some properties of the gazetteer.\n",
    "\n",
    "Below you will find some very simple examples of most of the important steps that you will carry out in the work."
   ]
  },
  {
   "cell_type": "code",
   "execution_count": 1,
   "id": "b0a0f859",
   "metadata": {},
   "outputs": [
    {
     "data": {
      "text/html": [
       "<div>\n",
       "<style scoped>\n",
       "    .dataframe tbody tr th:only-of-type {\n",
       "        vertical-align: middle;\n",
       "    }\n",
       "\n",
       "    .dataframe tbody tr th {\n",
       "        vertical-align: top;\n",
       "    }\n",
       "\n",
       "    .dataframe thead th {\n",
       "        text-align: right;\n",
       "    }\n",
       "</style>\n",
       "<table border=\"1\" class=\"dataframe\">\n",
       "  <thead>\n",
       "    <tr style=\"text-align: right;\">\n",
       "      <th></th>\n",
       "      <th>x</th>\n",
       "      <th>y</th>\n",
       "      <th>type</th>\n",
       "    </tr>\n",
       "  </thead>\n",
       "  <tbody>\n",
       "    <tr>\n",
       "      <th>0</th>\n",
       "      <td>3</td>\n",
       "      <td>2</td>\n",
       "      <td>a</td>\n",
       "    </tr>\n",
       "    <tr>\n",
       "      <th>1</th>\n",
       "      <td>5</td>\n",
       "      <td>4</td>\n",
       "      <td>b</td>\n",
       "    </tr>\n",
       "    <tr>\n",
       "      <th>2</th>\n",
       "      <td>10</td>\n",
       "      <td>8</td>\n",
       "      <td>a</td>\n",
       "    </tr>\n",
       "    <tr>\n",
       "      <th>3</th>\n",
       "      <td>20</td>\n",
       "      <td>3</td>\n",
       "      <td>a</td>\n",
       "    </tr>\n",
       "    <tr>\n",
       "      <th>4</th>\n",
       "      <td>10</td>\n",
       "      <td>3</td>\n",
       "      <td>a</td>\n",
       "    </tr>\n",
       "  </tbody>\n",
       "</table>\n",
       "</div>"
      ],
      "text/plain": [
       "    x  y type\n",
       "0   3  2    a\n",
       "1   5  4    b\n",
       "2  10  8    a\n",
       "3  20  3    a\n",
       "4  10  3    a"
      ]
     },
     "execution_count": 1,
     "metadata": {},
     "output_type": "execute_result"
    }
   ],
   "source": [
    "import pandas as pd\n",
    "# Read in data from a csv - hints, check the separator and the format of the text you are loading\n",
    "df = pd.read_csv('example.csv',  encoding = 'utf8')\n",
    "  \n",
    "#Print the first few lines of the dataframe\n",
    "df.head()"
   ]
  },
  {
   "cell_type": "code",
   "execution_count": 2,
   "id": "1998c0b8",
   "metadata": {},
   "outputs": [
    {
     "name": "stdout",
     "output_type": "stream",
     "text": [
      "x        int64\n",
      "y        int64\n",
      "type    object\n",
      "dtype: object\n",
      "\n",
      "               x          y\n",
      "count   9.000000   9.000000\n",
      "mean   11.222222   5.000000\n",
      "std     5.761462   2.738613\n",
      "min     3.000000   2.000000\n",
      "25%    10.000000   3.000000\n",
      "50%    10.000000   4.000000\n",
      "75%    12.000000   7.000000\n",
      "max    20.000000  10.000000\n",
      "\n",
      "b    5\n",
      "a    4\n",
      "Name: type, dtype: int64\n",
      "\n",
      "11.222222222222221\n",
      "\n"
     ]
    }
   ],
   "source": [
    "#Some commands to summarise the dataframe in different ways\n",
    "\n",
    "print(df.dtypes)     #Lists the columns and their data types\n",
    "print()\n",
    "\n",
    "print(df.describe()) #Summarises the numerical values\n",
    "print()\n",
    "\n",
    "print(df['type'].value_counts()) #Summarise some property of a specific column\n",
    "print()\n",
    "\n",
    "print(df['x'].mean()) # Calculate the mean on a numerical column\n",
    "print()\n"
   ]
  },
  {
   "cell_type": "code",
   "execution_count": 3,
   "id": "55567949",
   "metadata": {},
   "outputs": [
    {
     "data": {
      "image/png": "[encoded data removed]",
      "text/plain": [
       "<Figure size 432x288 with 1 Axes>"
      ]
     },
     "metadata": {
      "needs_background": "light"
     },
     "output_type": "display_data"
    }
   ],
   "source": [
    "# A simple scatter plot\n",
    "import matplotlib.pyplot as plt  \n",
    "\n",
    "x = df['x'].tolist()\n",
    "y = df['y'].tolist()\n",
    "\n",
    "plt.scatter(x, y)       # scatter plot pairs of xs and ys\n",
    "plt.show()             "
   ]
  },
  {
   "cell_type": "code",
   "execution_count": 4,
   "id": "168d32b5",
   "metadata": {},
   "outputs": [
    {
     "data": {
      "text/plain": [
       "<AxesSubplot:xlabel='type', ylabel='y'>"
      ]
     },
     "execution_count": 4,
     "metadata": {},
     "output_type": "execute_result"
    },
    {
     "data": {
      "image/png": "[encoded data removed]",
      "text/plain": [
       "<Figure size 432x288 with 1 Axes>"
      ]
     },
     "metadata": {
      "needs_background": "light"
     },
     "output_type": "display_data"
    }
   ],
   "source": [
    "# Box plots of values according to some field\n",
    "import seaborn as sns \n",
    "sns.boxplot(data=df, x='type', y='y')"
   ]
  },
  {
   "cell_type": "code",
   "execution_count": 5,
   "id": "6e5e0164",
   "metadata": {},
   "outputs": [
    {
     "data": {
      "text/html": [
       "<div>\n",
       "<style scoped>\n",
       "    .dataframe tbody tr th:only-of-type {\n",
       "        vertical-align: middle;\n",
       "    }\n",
       "\n",
       "    .dataframe tbody tr th {\n",
       "        vertical-align: top;\n",
       "    }\n",
       "\n",
       "    .dataframe thead th {\n",
       "        text-align: right;\n",
       "    }\n",
       "</style>\n",
       "<table border=\"1\" class=\"dataframe\">\n",
       "  <thead>\n",
       "    <tr style=\"text-align: right;\">\n",
       "      <th></th>\n",
       "      <th>x</th>\n",
       "      <th>y</th>\n",
       "      <th>type</th>\n",
       "    </tr>\n",
       "  </thead>\n",
       "  <tbody>\n",
       "    <tr>\n",
       "      <th>1</th>\n",
       "      <td>5</td>\n",
       "      <td>4</td>\n",
       "      <td>b</td>\n",
       "    </tr>\n",
       "    <tr>\n",
       "      <th>5</th>\n",
       "      <td>20</td>\n",
       "      <td>5</td>\n",
       "      <td>b</td>\n",
       "    </tr>\n",
       "    <tr>\n",
       "      <th>6</th>\n",
       "      <td>12</td>\n",
       "      <td>7</td>\n",
       "      <td>b</td>\n",
       "    </tr>\n",
       "    <tr>\n",
       "      <th>7</th>\n",
       "      <td>10</td>\n",
       "      <td>3</td>\n",
       "      <td>b</td>\n",
       "    </tr>\n",
       "    <tr>\n",
       "      <th>8</th>\n",
       "      <td>11</td>\n",
       "      <td>10</td>\n",
       "      <td>b</td>\n",
       "    </tr>\n",
       "  </tbody>\n",
       "</table>\n",
       "</div>"
      ],
      "text/plain": [
       "    x   y type\n",
       "1   5   4    b\n",
       "5  20   5    b\n",
       "6  12   7    b\n",
       "7  10   3    b\n",
       "8  11  10    b"
      ]
     },
     "execution_count": 5,
     "metadata": {},
     "output_type": "execute_result"
    }
   ],
   "source": [
    "# Create a new dataframe based on some sample\n",
    "sample = df[df.type == 'b']\n",
    "sample\n"
   ]
  },
  {
   "cell_type": "code",
   "execution_count": 6,
   "id": "1fb50927",
   "metadata": {},
   "outputs": [
    {
     "data": {
      "text/plain": [
       "<AxesSubplot:xlabel='type', ylabel='y'>"
      ]
     },
     "execution_count": 6,
     "metadata": {},
     "output_type": "execute_result"
    },
    {
     "data": {
      "image/png": "[encoded data removed]",
      "text/plain": [
       "<Figure size 432x288 with 1 Axes>"
      ]
     },
     "metadata": {
      "needs_background": "light"
     },
     "output_type": "display_data"
    }
   ],
   "source": [
    "sns.boxplot(data=sample, x='type', y='y')"
   ]
  },
  {
   "cell_type": "code",
   "execution_count": null,
   "id": "0c207b81",
   "metadata": {},
   "outputs": [],
   "source": []
  }
 ],
 "metadata": {
  "kernelspec": {
   "display_name": "Python 3 (ipykernel)",
   "language": "python",
   "name": "python3"
  },
  "language_info": {
   "codemirror_mode": {
    "name": "ipython",
    "version": 3
   },
   "file_extension": ".py",
   "mimetype": "text/x-python",
   "name": "python",
   "nbconvert_exporter": "python",
   "pygments_lexer": "ipython3",
   "version": "3.9.7"
  }
 },
 "nbformat": 4,
 "nbformat_minor": 5
}

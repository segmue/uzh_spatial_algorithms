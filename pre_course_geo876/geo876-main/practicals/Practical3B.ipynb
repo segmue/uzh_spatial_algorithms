{
 "cells": [
  {
   "cell_type": "markdown",
   "metadata": {},
   "source": [
    "## Conditionals, loops and functions\n",
    "\n",
    "Functions let us separate out behaviours that we need often into functions, which can be called from our programme and return values"
   ]
  },
  {
   "cell_type": "code",
   "execution_count": 1,
   "metadata": {
    "scrolled": true
   },
   "outputs": [
    {
     "name": "stdout",
     "output_type": "stream",
     "text": [
      "Zürich\n",
      "Basel\n",
      "Genf\n",
      "{'ZÜR': ['Zürich', [10, 10]], 'BAS': ['Basel', [20, 20]], 'GEN': ['Genf', [30, 30]]}\n"
     ]
    }
   ],
   "source": [
    "# This simple function shortens a string and transforms it to upper case\n",
    "def tla(name):\n",
    "    name = name[:3] # chops the string so it only has three letters\n",
    "    name = name.upper()\n",
    "    return name\n",
    "\n",
    "# Here I create a list of names\n",
    "names =[\"Zürich\", \"Basel\", \"Genf\"]\n",
    "# And here a list of lists...\n",
    "coordinates =[[10, 10],[20, 20],[30, 30]]\n",
    "\n",
    "# Iterate through all the entries in names\n",
    "for name in names:\n",
    "    print(name)\n",
    "\n",
    "#Create an empty dictionary\n",
    "gaz = {}\n",
    "    \n",
    "# Populate a dictionary. We assume the two lists are the same length and correctly ordered\n",
    "# We use the length of the list to determine how many steps we make\n",
    "for i in range(len(names)):\n",
    "    name = tla(names[i]) # We use our function to shorten the string\n",
    "    gaz[name] = [names[i], coordinates[i]]  \n",
    "\n",
    "print(gaz)"
   ]
  },
  {
   "cell_type": "markdown",
   "metadata": {},
   "source": [
    "The code above uses loops to iterate through lists and dictionaries. It has one function in which we shorten the place names. It builds a very simple gazetteer.\n",
    "\n",
    "1. Add functions to calculate distance between two coordinates using Manhattan and Euclidean distance\n",
    "2. Write a loop to calculate distances between all pairs of locations and store them in a dictionary. \n",
    "3. Print the final matrix to the screen, showing the abbreviated names and the distances between them\n",
    "3. Improve your code to \n",
    "    1. Only calculate distances once in the matrix\n",
    "    2. Not calculate distances between identical coordinates. Hint: use the `continue` keyword here.\n",
    "    \n",
    "N.B. You can reuse some of the code you already have to do this."
   ]
  },
  {
   "cell_type": "code",
   "execution_count": null,
   "metadata": {},
   "outputs": [],
   "source": []
  }
 ],
 "metadata": {
  "kernelspec": {
   "display_name": "Python 3 (ipykernel)",
   "language": "python",
   "name": "python3"
  },
  "language_info": {
   "codemirror_mode": {
    "name": "ipython",
    "version": 3
   },
   "file_extension": ".py",
   "mimetype": "text/x-python",
   "name": "python",
   "nbconvert_exporter": "python",
   "pygments_lexer": "ipython3",
   "version": "3.9.7"
  }
 },
 "nbformat": 4,
 "nbformat_minor": 4
}

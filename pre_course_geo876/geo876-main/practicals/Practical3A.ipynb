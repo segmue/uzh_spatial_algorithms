{
 "cells": [
  {
   "cell_type": "markdown",
   "metadata": {},
   "source": [
    "## Conditionals and loops\n",
    "Conditionals allow us to make decisions based on the values of variables, and to change the behaviour of a programme based on such values.\n",
    "\n",
    "Loops allow us to do things many times. \n",
    "\n",
    "We can combine loops with data structures storing collections (e.g. the lists and dictionaries we met in the last practical) to work with very large numbers of variables."
   ]
  },
  {
   "cell_type": "code",
   "execution_count": 1,
   "metadata": {
    "scrolled": true
   },
   "outputs": [
    {
     "name": "stdout",
     "output_type": "stream",
     "text": [
      "Zürich\n",
      "Basel\n",
      "Genf\n",
      "{'Zürich': [10, 10], 'Basel': [20, 20], 'Genf': [30, 30]}\n"
     ]
    }
   ],
   "source": [
    "# We store each name as an individual variable\n",
    "names = [\"Zürich\", \"Basel\", \"Genf\"]\n",
    "\n",
    "# We can store coordinates as a list with two values\n",
    "coordinates =[[10, 10], [20, 20], [30, 30]]\n",
    "\n",
    "# Iterate through all the entries in names\n",
    "for name in names:\n",
    "    print(name)\n",
    "\n",
    "#Create an empty dictionary\n",
    "gaz = {}\n",
    "    \n",
    "# Populate a dictionary. We assume the two lists are the same length and correctly ordered\n",
    "# We use the length of the list to determine how many steps we make\n",
    "for i in range(len(names)):\n",
    "    gaz[names[i]] = coordinates[i]\n",
    "\n",
    "print(gaz)"
   ]
  },
  {
   "cell_type": "markdown",
   "metadata": {},
   "source": [
    "1. Extend the code in the cell above with your solution to the distance calculations from the previous practicals to calculate the distances between all pairs of cities.\n",
    "2. Use conditional statements to output the names of the two cities which were most distant from one another.\n",
    "3. Use conditional statements to check if the most distant cities remain the same when we use Manhattan and Euclidean distances."
   ]
  },
  {
   "cell_type": "code",
   "execution_count": 2,
   "metadata": {},
   "outputs": [
    {
     "name": "stdout",
     "output_type": "stream",
     "text": [
      "[0, 2, 4, 6, 8, 10, 12, 14, 16, 18]\n",
      "Median index 5 and 4\n",
      "Median:  9.0\n"
     ]
    }
   ],
   "source": [
    "# This line imports a library, don't worry about it for now. We need it to calculate (pseudo-) random numbers\n",
    "from random import randint\n",
    "\n",
    "# Create an empty list\n",
    "numbers = []\n",
    "size = 10\n",
    "\n",
    "# Iterate through values between 0 and range-1\n",
    "for i in range(size):\n",
    "    # Add the value i to the list\n",
    "    numbers.append(i * 2)\n",
    "    \n",
    "    #Uncomment the following lines to add random numbers to the list\n",
    "    #r = randint(0,1000)\n",
    "    #numbers.append(r)\n",
    "    \n",
    "print(numbers)\n",
    "\n",
    "# Calculate the median by hand\n",
    "# First we find out how long the list is\n",
    "\n",
    "numbersLen = len(numbers)\n",
    "\n",
    "median = 'undefined'\n",
    "if (numbersLen%2 == 0):\n",
    "    j = int(numbersLen/2)\n",
    "    print(f'Median index {j} and {j-1}')\n",
    "    median = (numbers[j] + numbers[j-1])/2\n",
    "else:\n",
    "    j = int(((numbersLen + 1)/2) - 1)\n",
    "    print(f'Median index {j}')\n",
    "    median = numbers[j]\n",
    "\n",
    "print(f'Median:  {median}')"
   ]
  },
  {
   "cell_type": "markdown",
   "metadata": {},
   "source": [
    "The code above creates a list containing n numbers. Since the values are added in order, we can easily calculate the median by looking at the middle value if the list has an odd number of entries, and the average of the two middle values if the list has an even number of values.\n",
    "\n",
    "1. Modify the code and convince yourself that the median function is correct.\n",
    "2. Instead of adding ordered values to the list, add random values - the median calculation will now return nonsense values.\n",
    "3. Modify the code to fix this problem. Hint: You will only need one line of code to do so!"
   ]
  },
  {
   "cell_type": "markdown",
   "metadata": {},
   "source": [
    "We can use loops to perform many operations. These can make it straightforward to, for example, calculate long sequences. One example of such a sequence are the [Fibonacci numbers](https://en.wikipedia.org/wiki/Fibonacci_number). We will use lists and a loop to calculate the values in such a sequence. \n",
    "\n",
    "1. Write a loop below that calculates a given number of Fibonacci numbers, and stores the individual values in a list.\n",
    "2. Modify your code so that the loop stops when value in the sequence exceeds a predefined value. Output the index of the value, and print to the screen the previous value and its index."
   ]
  },
  {
   "cell_type": "code",
   "execution_count": null,
   "metadata": {},
   "outputs": [],
   "source": []
  }
 ],
 "metadata": {
  "kernelspec": {
   "display_name": "Python 3 (ipykernel)",
   "language": "python",
   "name": "python3"
  },
  "language_info": {
   "codemirror_mode": {
    "name": "ipython",
    "version": 3
   },
   "file_extension": ".py",
   "mimetype": "text/x-python",
   "name": "python",
   "nbconvert_exporter": "python",
   "pygments_lexer": "ipython3",
   "version": "3.9.7"
  }
 },
 "nbformat": 4,
 "nbformat_minor": 4
}

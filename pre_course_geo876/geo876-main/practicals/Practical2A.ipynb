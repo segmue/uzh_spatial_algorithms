{
 "cells": [
  {
   "cell_type": "markdown",
   "metadata": {},
   "source": [
    "# Getting started with variables, data types and printing\n",
    "Single variables and printing with formatting and replacement"
   ]
  },
  {
   "cell_type": "markdown",
   "metadata": {},
   "source": [
    "## Single-value variables\n",
    "In this practical you will experiment with variables, use them to carry out simple calculations, and print results to the screen."
   ]
  },
  {
   "cell_type": "code",
   "execution_count": 1,
   "metadata": {
    "scrolled": true
   },
   "outputs": [
    {
     "name": "stdout",
     "output_type": "stream",
     "text": [
      "Zürich Genf Basel\n",
      "The distance from Genf to Basel is 250km\n"
     ]
    }
   ],
   "source": [
    "z = \"Zürich\"\n",
    "b = \"Basel\"\n",
    "g = \"Genf\"\n",
    "\n",
    "print (z, g, b)\n",
    "\n",
    "distGenfBasel = 250\n",
    "distZurichBasel = 95\n",
    "distZurichGenf = 280\n",
    "\n",
    "print(\"The distance from \" + g + \" to \" + b + \" is \" + str(distGenfBasel) +\"km\")"
   ]
  },
  {
   "cell_type": "markdown",
   "metadata": {},
   "source": [
    "1. Modify the code above to print the distance from Genf to Zurich on the screen. \n",
    "2. Change the second print statement to use f-strings (see the next code cell for an example)"
   ]
  },
  {
   "cell_type": "code",
   "execution_count": 2,
   "metadata": {},
   "outputs": [
    {
     "name": "stdout",
     "output_type": "stream",
     "text": [
      "2 squared is 4 and the square root of 4 is 2.0\n",
      "2 is of type <class 'int'>, 4 is of type <class 'int'> and 2.0 is of type <class 'float'>\n"
     ]
    }
   ],
   "source": [
    "#Simple calculations\n",
    "x = 2\n",
    "y = x**2     # Calculate the square of x\n",
    "z = y**0.5   # Calculate the square root of x\n",
    "\n",
    "print(f'{x} squared is {y} and the square root of {y} is {z}')\n",
    "print(f'{x} is of type {type(x)}, {y} is of type {type(y)} and {z} is of type {type(z)}')"
   ]
  },
  {
   "cell_type": "markdown",
   "metadata": {},
   "source": [
    "In the demo you already saw some simple operators (e.g. addition, subtraction, multiplication and division). The ** operator raises the number on the left to the power of the exponent on the right. Here we use it to calculate a square and then a square root. Look at the types of the values returned. What happened?\n",
    "\n",
    "Experiment with different values of x and convince yourself that you understand what is going on."
   ]
  },
  {
   "cell_type": "markdown",
   "metadata": {},
   "source": [
    "## Variables and calculations\n",
    "\n",
    "1. Find out the coordinates of Zürich, Basel and Bern in CH1903+ (cartesian) coordinates (use for instance https://map.geo.admin.ch/ to find these out.\n",
    "\n",
    "Now, modify the code below to:\n",
    "1. Create variables and store the coordinates of each city using these (N.B. for now, create a variable storing each coordinate individually).\n",
    "2. Calculate the distance between each city using the coordinates, and store each distance in a variable.\n",
    "3. Print the distances between each city pair to the screen, using the variables you created and that already existed, to do so."
   ]
  },
  {
   "cell_type": "code",
   "execution_count": 3,
   "metadata": {
    "scrolled": true
   },
   "outputs": [
    {
     "name": "stdout",
     "output_type": "stream",
     "text": [
      "The distance from Zürich to Basel is 95km\n"
     ]
    }
   ],
   "source": [
    "z = \"Zürich\"\n",
    "b = \"Basel\"\n",
    "g = \"Genf\"\n",
    "\n",
    "distGenfBasel = 250\n",
    "distZurichBasel = 95\n",
    "distZurichGenf = 280\n",
    "\n",
    "print(\"The distance from \" + z + \" to \" + b + \" is \" + str(distZurichBasel) +\"km\")"
   ]
  },
  {
   "cell_type": "code",
   "execution_count": null,
   "metadata": {},
   "outputs": [],
   "source": []
  }
 ],
 "metadata": {
  "kernelspec": {
   "display_name": "Python 3 (ipykernel)",
   "language": "python",
   "name": "python3"
  },
  "language_info": {
   "codemirror_mode": {
    "name": "ipython",
    "version": 3
   },
   "file_extension": ".py",
   "mimetype": "text/x-python",
   "name": "python",
   "nbconvert_exporter": "python",
   "pygments_lexer": "ipython3",
   "version": "3.9.7"
  }
 },
 "nbformat": 4,
 "nbformat_minor": 4
}

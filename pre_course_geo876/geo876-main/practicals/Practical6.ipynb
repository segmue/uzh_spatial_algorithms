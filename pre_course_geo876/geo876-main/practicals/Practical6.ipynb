{
 "cells": [
  {
   "cell_type": "markdown",
   "metadata": {},
   "source": [
    "## Manipulating numbers, dates and text\n",
    "\n",
    "We've now seen some useful methods, which we can subsitute for things we have already implemented. \n",
    "1. Look at your solution to **Practical 5** and think about how you might use for example, the minimum method or the absolute method. Change your code to use these methods.\n",
    "2. Import the `Math` package and modify the Point class to work with n-dimensional points. Think about implications for properties like area.\n",
    "3. Use the datetime package to work out on what day of the week you were born.\n",
    "4. In Switzerland if Christmas or New Year fall on a weekend, then we don't get a days off work. In Scotland, the holidays  are moved to the next Monday and Tuesday. Based on a working life starting at 20 and lasting until you are 65, work out how many more holidays someone in Scotland would have than someone in Switzerland.   \n"
   ]
  },
  {
   "cell_type": "code",
   "execution_count": null,
   "metadata": {
    "scrolled": true
   },
   "outputs": [],
   "source": [
    "\n",
    "    "
   ]
  }
 ],
 "metadata": {
  "kernelspec": {
   "display_name": "Python 3 (ipykernel)",
   "language": "python",
   "name": "python3"
  },
  "language_info": {
   "codemirror_mode": {
    "name": "ipython",
    "version": 3
   },
   "file_extension": ".py",
   "mimetype": "text/x-python",
   "name": "python",
   "nbconvert_exporter": "python",
   "pygments_lexer": "ipython3",
   "version": "3.9.7"
  }
 },
 "nbformat": 4,
 "nbformat_minor": 4
}

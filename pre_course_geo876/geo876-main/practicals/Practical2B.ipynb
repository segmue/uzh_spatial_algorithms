{
 "cells": [
  {
   "cell_type": "markdown",
   "metadata": {},
   "source": [
    "## Working with dictionaries and lists\n",
    "Lists are usually used to store values of the same type. We access values using their address, and order is maintained. It is also possible to have duplicate values.\n",
    "\n",
    "Dictionaries have keys and values, and keys must be unique. We access values using their keys. Note that in this example, the keys are strings and the values are lists."
   ]
  },
  {
   "cell_type": "code",
   "execution_count": 12,
   "metadata": {
    "scrolled": true
   },
   "outputs": [
    {
     "name": "stdout",
     "output_type": "stream",
     "text": [
      "{'x': 'Harry', 'y': '2007', 'z': ['white', 'black']}\n",
      "{'Zürich': [10, 10], 'Basel': [20, 20], 'Genf': [30, 30]}\n",
      "Manhattan distance from Zürich to Basel is 20.0\n",
      "ZürichGenf\n"
     ]
    }
   ],
   "source": [
    "# We store each name as an individual variable\n",
    "z = \"Zürich\"\n",
    "b = \"Basel\"\n",
    "g = \"Genf\"\n",
    "\n",
    "# We can store coordinates as a list with two values\n",
    "zc = [10, 10]\n",
    "bc = [20, 20]\n",
    "gc = [30, 30]\n",
    "\n",
    "# We can build dictionaries using literal values  like this\n",
    "my_dict = {'x':'Harry', 'y':'2007', 'z':['white', 'black']}\n",
    "print(my_dict)\n",
    "\n",
    "# But we can also build a dictionary using variables\n",
    "# Remember, every entry has a key and a value\n",
    "gazDict = {z: zc, b: bc, g: gc}\n",
    "print(gazDict)\n",
    "\n",
    "# Show what is stored in our keys and values\n",
    "gazDict.keys()\n",
    "gazDict.values()\n",
    "\n",
    "# Calcuate the Manhattan distance between Zurich and Basel\n",
    "# Get the coordinates back (remember these are lists)\n",
    "cz = gazDict[z]\n",
    "cb = gazDict[b]\n",
    "\n",
    "# We access the list values using their address (i.e. their position)\n",
    "xDist = cz[0] - cb[0]\n",
    "\n",
    "# We need to convert these to absolute values - there are simpler ways but you don't know how yet\n",
    "xDist = xDist ** 2\n",
    "xDist = xDist ** 0.5\n",
    "\n",
    "yDist = cz[1] - cb[1]\n",
    "yDist = yDist ** 2\n",
    "yDist = yDist ** 0.5\n",
    "\n",
    "dist = xDist + yDist\n",
    "\n",
    "print(f'Manhattan distance from {z} to {b} is {dist}')\n",
    "\n",
    "# Example of string concatenation (you'll need this afterwards)\n",
    "zg = z + g\n",
    "print(zg)\n"
   ]
  },
  {
   "cell_type": "markdown",
   "metadata": {},
   "source": [
    "1. Substitute the real coordinates for the ones I used. \n",
    "2. Add code to calculate the Euclidean distance between Zurich and Basel\n",
    "3. Extend the code to calcuate distances between all three cities and store these in a dictionary. As keys for the dictionary, use the city names concatented together. To concatenate two strings you can just add them.\n",
    "4. Think about how you could store both Manhattan distances and Euclidean ones in a dictionary."
   ]
  },
  {
   "cell_type": "code",
   "execution_count": null,
   "metadata": {},
   "outputs": [],
   "source": []
  }
 ],
 "metadata": {
  "kernelspec": {
   "display_name": "Python 3 (ipykernel)",
   "language": "python",
   "name": "python3"
  },
  "language_info": {
   "codemirror_mode": {
    "name": "ipython",
    "version": 3
   },
   "file_extension": ".py",
   "mimetype": "text/x-python",
   "name": "python",
   "nbconvert_exporter": "python",
   "pygments_lexer": "ipython3",
   "version": "3.9.7"
  }
 },
 "nbformat": 4,
 "nbformat_minor": 4
}

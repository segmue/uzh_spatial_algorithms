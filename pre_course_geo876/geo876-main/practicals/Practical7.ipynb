{
 "cells": [
  {
   "cell_type": "markdown",
   "id": "5ba23b02",
   "metadata": {},
   "source": [
    "## Working with numpy\n",
    "\n",
    "**numpy** is very useful for performing arithmetic and other operations on arrays, vectors and so on. It is an important part of many other packages and, for instance, very useful in machine learning.\n",
    "\n",
    "Here, we create a numpy array containing random numbers sampled from a normal distribution. You can change the size, mean and standard deviation.\n",
    "\n",
    "We can calculate some basic properties of the array, and see how good a job numpy is doing at creating these values. In the code below we calculate **mean** and **standard deviation** iteratively using loops. We first turn the numpy array into a standard list. Experiment with different values of `n`, `mean` and `mu` and convince yourself that the code works.\n"
   ]
  },
  {
   "cell_type": "code",
   "execution_count": 45,
   "id": "4482f78d",
   "metadata": {},
   "outputs": [
    {
     "name": "stdout",
     "output_type": "stream",
     "text": [
      "Mean: 9.97976593598764 + standard deviation: 2.017952116228739\n",
      "- time to iterate:   0.0008 seconds\n",
      "\n",
      "Mean: 9.97976593598764 + standard deviation: 1.9997987019863228\n",
      "- time to iterate:   0.0000 seconds\n",
      "\n",
      "Using vectorisation was 19.9 times faster\n"
     ]
    }
   ],
   "source": [
    "# import the libraries we will use\n",
    "import time\n",
    "import numpy as np\n",
    "from numpy.random import default_rng\n",
    "\n",
    "# Create a random generator. We can use seeds if we want the values to always be the same\n",
    "rng = default_rng()\n",
    "\n",
    "#Parameters for a normal distribution of n values, with a mean and standard deviation (mu)\n",
    "n = 1000\n",
    "mean = 10\n",
    "mu = 2\n",
    "\n",
    "# Create a numpy array of random values pulled from a normal distribution with these properties\n",
    "vals = mean + mu * rng.standard_normal(n)\n",
    "\n",
    "#Now create a simple Python list containing the same values, so that we can see how fast an iterative solution is\n",
    "valsList = vals.tolist()\n",
    "\n",
    "# Calculate the mean and standard deviation of the values using iteration\n",
    "tic = time.perf_counter()\n",
    "\n",
    "# Calculate the mean\n",
    "mean = 0\n",
    "for i in range(len(valsList)):\n",
    "    mean = mean + valsList[i]\n",
    "mean = mean/(len(valsList))\n",
    "\n",
    "# Calculate the standard deviation\n",
    "sum = 0\n",
    "for i in range(len(valsList)):\n",
    "    sum = sum + (valsList[i] - mean) ** 2\n",
    "stdev = (sum/len(valsList))**0.5\n",
    "\n",
    "toc = time.perf_counter()\n",
    "\n",
    "print(f'Mean: {mean} + standard deviation: {stdev}')\n",
    "print(f'- time to iterate:   {toc - tic:0.4f} seconds')\n",
    "iterateTime = toc - tic\n",
    "\n",
    "tic = time.perf_counter()\n",
    "\n",
    "#You should write your vectorised code here\n",
    "\n",
    "toc = time.perf_counter()\n",
    "\n",
    "# Uncomment these lines to print out the performance of your vectorised code\n",
    "# print()\n",
    "# print(f'Mean: {mean} + standard deviation: {sd}')\n",
    "# print(f'- time to iterate:   {toc - tic:0.4f} seconds')\n",
    "# vectorTime = toc-tic\n",
    "# print()\n",
    "# print(f'Using vectorisation was {iterateTime/vectorTime:0.1f} times faster')\n"
   ]
  },
  {
   "cell_type": "markdown",
   "id": "13b79e0b",
   "metadata": {},
   "source": [
    "Calculate the mean and standard deviation using **vectorisation** on the numpy array. Work out how much faster this approach is. \n",
    "\n",
    "**Hint**: Using vectorisation means that you don't iterate, but carry out calculations directly on the numpy array. For example,\n",
    "\n",
    "`c = np.subtract(a,b)` or `c = a - b`\n",
    "\n",
    "will subtract array b from array c. If a or b are constants, the constant will be subtracted from the array.\n"
   ]
  },
  {
   "cell_type": "code",
   "execution_count": null,
   "id": "561f435c",
   "metadata": {},
   "outputs": [],
   "source": []
  }
 ],
 "metadata": {
  "kernelspec": {
   "display_name": "Python 3 (ipykernel)",
   "language": "python",
   "name": "python3"
  },
  "language_info": {
   "codemirror_mode": {
    "name": "ipython",
    "version": 3
   },
   "file_extension": ".py",
   "mimetype": "text/x-python",
   "name": "python",
   "nbconvert_exporter": "python",
   "pygments_lexer": "ipython3",
   "version": "3.9.7"
  }
 },
 "nbformat": 4,
 "nbformat_minor": 5
}

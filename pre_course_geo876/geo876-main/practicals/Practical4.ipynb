{
 "cells": [
  {
   "cell_type": "markdown",
   "metadata": {},
   "source": [
    "## Objects classes and methods\n",
    "\n",
    "Object-oriented programming is a very powerful way of **abstracting** and **encapsulating** behaviours which we wish to repeatably use. Object-oriented programming also two other important notions: **inheritance** and **polymorphism**.\n",
    "\n",
    "Modify the following short piece of code to calculate Euclidean distances, and test your code with some different coordinates."
   ]
  },
  {
   "cell_type": "code",
   "execution_count": 1,
   "metadata": {
    "scrolled": true
   },
   "outputs": [
    {
     "name": "stdout",
     "output_type": "stream",
     "text": [
      "The coordinates of the point are 3, 2.\n",
      "The coordinates of the point are 5, 10.\n",
      "The distance between the points is Undefined\n"
     ]
    }
   ],
   "source": [
    "# A simple Point class\n",
    "class Point:\n",
    "    # Here we create an instance of a Point with some coordinates - these are properties of the instance\n",
    "    def __init__(self, x, y):\n",
    "        self.x = x\n",
    "        self.y = y\n",
    "    # This is a method which simply prints the coordinates to the screen    \n",
    "    def report(self):\n",
    "        print(f\"The coordinates of the point are {self.x}, {self.y}.\")\n",
    "    # You should modify this method to calculate the distance between two points\n",
    "    def distance(self, other):\n",
    "        return \"Undefined\"\n",
    "\n",
    "p = Point(3,2)\n",
    "q = Point(5,10)\n",
    "d = p.distance(q)\n",
    "\n",
    "p.report()\n",
    "q.report()\n",
    "print(f\"The distance between the points is {d}\")\n",
    "    "
   ]
  },
  {
   "cell_type": "markdown",
   "metadata": {},
   "source": [
    "Using the Point class, write a new class which represents a **bounding box**. It should:\n",
    "\n",
    "1. Store the coordinates of the corners of the bounding box as properties;\n",
    "2. Calculate and return the area of the bounding box;\n",
    "3. Test if a Point lies inside the bounding box.\n",
    "\n",
    "Write some code which uses your classes and check they work. Test the performance for some cases where you think errors might occur (e.g. bounding boxes comprising of the same points, coordinates which are negative, etc.)\n"
   ]
  },
  {
   "cell_type": "code",
   "execution_count": null,
   "metadata": {},
   "outputs": [],
   "source": []
  }
 ],
 "metadata": {
  "kernelspec": {
   "display_name": "Python 3 (ipykernel)",
   "language": "python",
   "name": "python3"
  },
  "language_info": {
   "codemirror_mode": {
    "name": "ipython",
    "version": 3
   },
   "file_extension": ".py",
   "mimetype": "text/x-python",
   "name": "python",
   "nbconvert_exporter": "python",
   "pygments_lexer": "ipython3",
   "version": "3.9.7"
  }
 },
 "nbformat": 4,
 "nbformat_minor": 4
}

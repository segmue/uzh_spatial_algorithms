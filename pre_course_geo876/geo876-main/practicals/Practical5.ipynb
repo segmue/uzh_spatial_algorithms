{
 "cells": [
  {
   "cell_type": "markdown",
   "metadata": {},
   "source": [
    "## Organising code-based solutions\n",
    "\n",
    "Add to your solution for **Practical 4** a `PointGroup` class which takes as an argument a `List` of Points. The class should have a method which returns its bounding box and area. \n",
    "\n",
    "Write a `main` method which takes as an input a given number of Points, and creates this number of Points with random coordinates. Test your code for a small number of Points.\n",
    "\n",
    "What do you expect to happen as the number of Points gets large?\n",
    "\n",
    "**Optional**: Divide your code up into different scripts - put each class in a separate script and import these to the `main` class."
   ]
  },
  {
   "cell_type": "code",
   "execution_count": null,
   "metadata": {
    "scrolled": true
   },
   "outputs": [],
   "source": [
    "\n",
    "    "
   ]
  }
 ],
 "metadata": {
  "kernelspec": {
   "display_name": "Python 3 (ipykernel)",
   "language": "python",
   "name": "python3"
  },
  "language_info": {
   "codemirror_mode": {
    "name": "ipython",
    "version": 3
   },
   "file_extension": ".py",
   "mimetype": "text/x-python",
   "name": "python",
   "nbconvert_exporter": "python",
   "pygments_lexer": "ipython3",
   "version": "3.9.7"
  }
 },
 "nbformat": 4,
 "nbformat_minor": 4
}

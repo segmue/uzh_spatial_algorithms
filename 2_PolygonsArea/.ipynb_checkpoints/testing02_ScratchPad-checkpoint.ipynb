{
 "cells": [
  {
   "cell_type": "markdown",
   "metadata": {},
   "source": [
    "# GEO877: Spatial Algorithms\n",
    "\n",
    "## Example 2: Polygon Centroid and Area\n",
    "\n",
    "Demonstrating constructing a polygon and then calculating its area and centroid. Building on the basic Point class. Assumes the polygon is simple - no holes and does not self-intersect."
   ]
  },
  {
   "cell_type": "code",
   "execution_count": 1,
   "metadata": {},
   "outputs": [
    {
     "name": "stdout",
     "output_type": "stream",
     "text": [
      "[[0, 10], [5, 0], [10, 10], [15, 0], [20, 10], [25, 0], [30, 20], [35, 15], [45, 0], [50, 50], [45, 40], [40, 50], [30, 45], [25, 40], [20, 30], [15, 50], [10, 35], [5, 50], [0, 10]]\n"
     ]
    }
   ],
   "source": [
    "from points import *\n",
    "\n",
    "# sample data (group of 2D points for creating a simple polygon)\n",
    "# ===========\n",
    "sampleData = [[0,10], [5,0], [10,10], [15,0], [20,10], [25, 0],\n",
    "             [30, 20], [35, 15], [45, 0], [50, 50], [45, 40], \n",
    "             [40, 50], [30, 45], [25, 40], [20, 30], [15, 50],\n",
    "             [10,35], [5, 50], [0, 10]]\n",
    "\n",
    "print(sampleData)"
   ]
  },
  {
   "cell_type": "code",
   "execution_count": 3,
   "metadata": {},
   "outputs": [
    {
     "data": {
      "text/plain": [
       "Polygon PointGroup containing 19 points"
      ]
     },
     "execution_count": 3,
     "metadata": {},
     "output_type": "execute_result"
    }
   ],
   "source": [
    "myPolygon = PointPolygon(sampleData, xcol=0, ycol=1)\n",
    "myPolygon"
   ]
  },
  {
   "cell_type": "code",
   "execution_count": 4,
   "metadata": {},
   "outputs": [
    {
     "data": {
      "text/plain": [
       "10"
      ]
     },
     "execution_count": 4,
     "metadata": {},
     "output_type": "execute_result"
    }
   ],
   "source": [
    "myPolygon[0].y"
   ]
  },
  {
   "cell_type": "code",
   "execution_count": 5,
   "metadata": {},
   "outputs": [
    {
     "data": {
      "text/plain": [
       "True"
      ]
     },
     "execution_count": 5,
     "metadata": {},
     "output_type": "execute_result"
    }
   ],
   "source": [
    "myPolygon.isClosed()"
   ]
  },
  {
   "cell_type": "code",
   "execution_count": 6,
   "metadata": {},
   "outputs": [
    {
     "name": "stdout",
     "output_type": "stream",
     "text": [
      "area of polygon is 1,625\n",
      "centroid of polygon is (x=24.731, y=25.154)\n"
     ]
    }
   ],
   "source": [
    "area, centre = myPolygon.centroid()\n",
    "print(f\"area of polygon is {area:,.0f}\")\n",
    "print(f\"centroid of polygon is (x={centre.x:.3f}, y={centre.y:.3f})\")"
   ]
  },
  {
   "cell_type": "code",
   "execution_count": 9,
   "metadata": {},
   "outputs": [
    {
     "data": {
      "text/plain": [
       "<matplotlib.collections.PathCollection at 0x7fba38dc5470>"
      ]
     },
     "execution_count": 9,
     "metadata": {},
     "output_type": "execute_result"
    },
    {
     "data": {
      "image/png": "[encoded data removed]",
      "text/plain": [
       "<Figure size 432x288 with 1 Axes>"
      ]
     },
     "metadata": {
      "needs_background": "light"
     },
     "output_type": "display_data"
    }
   ],
   "source": [
    "import matplotlib.pyplot as plt\n",
    "\n",
    "x = [i.x for i in myPolygon]\n",
    "y = [i.y for i in myPolygon]\n",
    "\n",
    "plt.plot(x, y, linestyle='dashed')\n",
    "plt.scatter(centre.x, centre.y, color='green')"
   ]
  },
  {
   "cell_type": "code",
   "execution_count": 11,
   "metadata": {},
   "outputs": [
    {
     "data": {
      "text/html": [
       "<div>\n",
       "<style scoped>\n",
       "    .dataframe tbody tr th:only-of-type {\n",
       "        vertical-align: middle;\n",
       "    }\n",
       "\n",
       "    .dataframe tbody tr th {\n",
       "        vertical-align: top;\n",
       "    }\n",
       "\n",
       "    .dataframe thead th {\n",
       "        text-align: right;\n",
       "    }\n",
       "</style>\n",
       "<table border=\"1\" class=\"dataframe\">\n",
       "  <thead>\n",
       "    <tr style=\"text-align: right;\">\n",
       "      <th></th>\n",
       "      <th>pid</th>\n",
       "      <th>x</th>\n",
       "      <th>y</th>\n",
       "    </tr>\n",
       "  </thead>\n",
       "  <tbody>\n",
       "    <tr>\n",
       "      <th>0</th>\n",
       "      <td>0.6</td>\n",
       "      <td>411323.926267</td>\n",
       "      <td>638109.950620</td>\n",
       "    </tr>\n",
       "    <tr>\n",
       "      <th>1</th>\n",
       "      <td>0.6</td>\n",
       "      <td>411652.850960</td>\n",
       "      <td>637716.819843</td>\n",
       "    </tr>\n",
       "    <tr>\n",
       "      <th>2</th>\n",
       "      <td>0.6</td>\n",
       "      <td>412241.568662</td>\n",
       "      <td>637899.557298</td>\n",
       "    </tr>\n",
       "    <tr>\n",
       "      <th>3</th>\n",
       "      <td>0.6</td>\n",
       "      <td>412639.691275</td>\n",
       "      <td>638425.996841</td>\n",
       "    </tr>\n",
       "    <tr>\n",
       "      <th>4</th>\n",
       "      <td>0.6</td>\n",
       "      <td>412919.813909</td>\n",
       "      <td>638983.826198</td>\n",
       "    </tr>\n",
       "  </tbody>\n",
       "</table>\n",
       "</div>"
      ],
      "text/plain": [
       "   pid              x              y\n",
       "0  0.6  411323.926267  638109.950620\n",
       "1  0.6  411652.850960  637716.819843\n",
       "2  0.6  412241.568662  637899.557298\n",
       "3  0.6  412639.691275  638425.996841\n",
       "4  0.6  412919.813909  638983.826198"
      ]
     },
     "execution_count": 11,
     "metadata": {},
     "output_type": "execute_result"
    }
   ],
   "source": [
    "import pandas as pd\n",
    "import numpy as np\n",
    "\n",
    "data_folder = \"\"   # specify folder where dataset is\n",
    "data_file = \"polygon_testData.csv\"\n",
    "input_string = data_folder + data_file\n",
    "col_names = ['pid', 'x', 'y']\n",
    "df = pd.read_csv(input_string, sep = \",\", header=None, names=col_names)\n",
    "df[:5]"
   ]
  },
  {
   "cell_type": "code",
   "execution_count": 12,
   "metadata": {},
   "outputs": [
    {
     "data": {
      "text/plain": [
       "array([[ 411323.926267,  638109.95062 ],\n",
       "       [ 411652.85096 ,  637716.819843],\n",
       "       [ 412241.568662,  637899.557298],\n",
       "       ..., \n",
       "       [ 410700.167299,  639697.929649],\n",
       "       [ 411045.268225,  638910.804554],\n",
       "       [ 411323.926267,  638109.95062 ]])"
      ]
     },
     "execution_count": 12,
     "metadata": {},
     "output_type": "execute_result"
    }
   ],
   "source": [
    "df = df[['x', 'y']].to_numpy()  # convert to numpy array to instantiate using Polygon class\n",
    "df"
   ]
  },
  {
   "cell_type": "code",
   "execution_count": 15,
   "metadata": {},
   "outputs": [
    {
     "data": {
      "text/plain": [
       "Polygon PointGroup containing 1793 points"
      ]
     },
     "execution_count": 15,
     "metadata": {},
     "output_type": "execute_result"
    }
   ],
   "source": [
    "samplePolygon = PointPolygon(df, xcol=0, ycol=1)\n",
    "samplePolygon"
   ]
  },
  {
   "cell_type": "code",
   "execution_count": 16,
   "metadata": {},
   "outputs": [
    {
     "data": {
      "text/plain": [
       "[Point(x=411323.92626700003, y=638109.95062),\n",
       " Point(x=411652.85096, y=637716.819843),\n",
       " Point(x=412241.568662, y=637899.557298),\n",
       " Point(x=412639.691275, y=638425.9968409999),\n",
       " Point(x=412919.813909, y=638983.826198)]"
      ]
     },
     "execution_count": 16,
     "metadata": {},
     "output_type": "execute_result"
    }
   ],
   "source": [
    "samplePolygon.points[:5]"
   ]
  },
  {
   "cell_type": "code",
   "execution_count": 17,
   "metadata": {},
   "outputs": [
    {
     "data": {
      "text/plain": [
       "True"
      ]
     },
     "execution_count": 17,
     "metadata": {},
     "output_type": "execute_result"
    }
   ],
   "source": [
    "samplePolygon.isClosed()"
   ]
  },
  {
   "cell_type": "code",
   "execution_count": 18,
   "metadata": {},
   "outputs": [
    {
     "name": "stdout",
     "output_type": "stream",
     "text": [
      "area of polygon is 129,855,312,843 metres squared\n",
      "centroid of polygon is: x=436594.310, y=297088.111\n"
     ]
    }
   ],
   "source": [
    "area, centre =samplePolygon.centroid()\n",
    "print(f\"area of polygon is {area:,.0f} metres squared\")\n",
    "print(f\"centroid of polygon is: x={centre.x:.3f}, y={centre.y:.3f}\")"
   ]
  },
  {
   "cell_type": "code",
   "execution_count": 20,
   "metadata": {},
   "outputs": [
    {
     "data": {
      "text/plain": [
       "<matplotlib.collections.PathCollection at 0x7fba18923a58>"
      ]
     },
     "execution_count": 20,
     "metadata": {},
     "output_type": "execute_result"
    },
    {
     "data": {
      "image/png": "[encoded data removed]",
      "text/plain": [
       "<Figure size 432x288 with 1 Axes>"
      ]
     },
     "metadata": {
      "needs_background": "light"
     },
     "output_type": "display_data"
    }
   ],
   "source": [
    "import matplotlib.pyplot as plt\n",
    "\n",
    "x = [i.x for i in samplePolygon]\n",
    "y = [i.y for i in samplePolygon]\n",
    "\n",
    "plt.plot(x, y, linestyle='dashed')\n",
    "plt.scatter(centre.x, centre.y, color='green')"
   ]
  },
  {
   "cell_type": "code",
   "execution_count": null,
   "metadata": {},
   "outputs": [],
   "source": []
  }
 ],
 "metadata": {
  "kernelspec": {
   "display_name": "Python 3",
   "language": "python",
   "name": "python3"
  },
  "language_info": {
   "codemirror_mode": {
    "name": "ipython",
    "version": 3
   },
   "file_extension": ".py",
   "mimetype": "text/x-python",
   "name": "python",
   "nbconvert_exporter": "python",
   "pygments_lexer": "ipython3",
   "version": "3.6.10"
  }
 },
 "nbformat": 4,
 "nbformat_minor": 4
}

{
 "cells": [
  {
   "cell_type": "markdown",
   "metadata": {},
   "source": [
    "# GEO877: Spatial Algorithms\n",
    "\n",
    "## Solution 2: Polygon Centroid and Area\n",
    "\n",
    "Design and implement an algorithm that can construct a polygon from a spatially sorted array of points with x,y coordinates, and then calculate its area and centre coordinates. For the data samples provided, assume Cartesian coordinates in metres.\n",
    "\n",
    "21/04/2021: corrected version. In the function constructPolygon, the line 'if pgon.isClosed() == False: was missing its brackets..."
   ]
  },
  {
   "cell_type": "code",
   "execution_count": null,
   "metadata": {},
   "outputs": [],
   "source": [
    "# SETUP\n",
    "# =====\n",
    "import numpy as np\n",
    "import pandas as pd\n",
    "import matplotlib.pyplot as plt\n",
    "\n",
    "from geospatial import *\n",
    "\n",
    "print(\"ready\")"
   ]
  },
  {
   "cell_type": "code",
   "execution_count": null,
   "metadata": {},
   "outputs": [],
   "source": [
    "# FUNCTIONS\n",
    "# =========\n",
    "# construct a polygon and calculate its area and centre using the PointPolygon class\n",
    "def constructPolygon(df, xcol=0, ycol=1):\n",
    "    pgon = Polygon(df, xcol=xcol, ycol=ycol)\n",
    "    \n",
    "    print(f\"Polygon contains {pgon.size} points\")\n",
    "    \n",
    "    if pgon.isClosed() == False:\n",
    "        print(\"Polygon is not closed. Cannot calculate area and centre\")\n",
    "    else:\n",
    "        print(\"Polygon is closed\")\n",
    "        centre = pgon.centre()\n",
    "        area = pgon.area()\n",
    "        print(f\"Area of polygon is {area:,.0f} metres squared\")\n",
    "        print(f\"Centre of polygon is x={centre.x:.3f}, y={centre.y:.3f}\")\n",
    "\n",
    "        x = [i.x for i in pgon]\n",
    "        y = [i.y for i in pgon]\n",
    "\n",
    "        plt.plot(x, y, linestyle='dashed')\n",
    "        plt.scatter(centre.x, centre.y, color='green')\n",
    "        \n",
    "print(\"ready\")"
   ]
  },
  {
   "cell_type": "code",
   "execution_count": null,
   "metadata": {},
   "outputs": [],
   "source": [
    "# Example 1: array of points\n",
    "# =========\n",
    "test = [[0,10], [5,0], [10,10], [15,0], [20,10], [25, 0],\n",
    "             [30, 20], [35, 15], [45, 0], [50, 50], [45, 40], \n",
    "             [40, 50], [30, 45], [25, 40], [20, 30], [15, 50],\n",
    "             [10,35], [5, 50], [0, 15]]\n",
    "\n",
    "constructPolygon(test)"
   ]
  },
  {
   "cell_type": "code",
   "execution_count": null,
   "metadata": {},
   "outputs": [],
   "source": [
    "# Example 2: read in a dataset, convert it to an array of points\n",
    "# =========\n",
    "data_folder = \"\"   # specify folder where dataset is\n",
    "data_file = \"polygon_testData.csv\"\n",
    "input_string = data_folder + data_file\n",
    "col_names = ['pid', 'x', 'y']\n",
    "df = pd.read_csv(input_string, sep = \",\", header=None, names=col_names)\n",
    "\n",
    "df = df[['x', 'y']].to_numpy()  # convert to numpy array to instantiate using Polygon class\n",
    "\n",
    "constructPolygon(df)"
   ]
  },
  {
   "cell_type": "code",
   "execution_count": null,
   "metadata": {},
   "outputs": [],
   "source": [
    "# verification check:\n",
    "# ------------------\n",
    "# according to the font of knowledge that is Wikipedia\n",
    "# https://en.wikipedia.org/wiki/Geography_of_England\n",
    "# England is 130.279 billion metres squared"
   ]
  },
  {
   "cell_type": "code",
   "execution_count": null,
   "metadata": {},
   "outputs": [],
   "source": []
  }
 ],
 "metadata": {
  "kernelspec": {
   "display_name": "Python 3",
   "language": "python",
   "name": "python3"
  },
  "language_info": {
   "codemirror_mode": {
    "name": "ipython",
    "version": 3
   },
   "file_extension": ".py",
   "mimetype": "text/x-python",
   "name": "python",
   "nbconvert_exporter": "python",
   "pygments_lexer": "ipython3",
   "version": "3.6.10"
  }
 },
 "nbformat": 4,
 "nbformat_minor": 4
}
